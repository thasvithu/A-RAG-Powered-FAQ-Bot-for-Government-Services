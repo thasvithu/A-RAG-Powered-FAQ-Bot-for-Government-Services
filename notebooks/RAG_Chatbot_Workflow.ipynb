{
 "cells": [
  {
   "cell_type": "markdown",
   "id": "b240063c",
   "metadata": {},
   "source": [
    "#### Load Data From PDF"
   ]
  },
  {
   "cell_type": "code",
   "execution_count": null,
   "id": "25db3eb4",
   "metadata": {},
   "outputs": [],
   "source": [
    "from langchain_community.document_loaders import PyPDFLoader\n",
    "\n",
    "def load_pdf(file_path: str):\n",
    "    \"\"\"\n",
    "    Load a PDF file and return its content as a list of documents.\n",
    "\n",
    "    Args:\n",
    "        file_path (str): The path to the PDF file.\n",
    "\n",
    "    Returns:\n",
    "        list: A list of documents extracted from the PDF.\n",
    "    \"\"\"\n",
    "    loader = PyPDFLoader(file_path)\n",
    "    documents = loader.load()\n",
    "    \n",
    "    return documents  # This returns a list of Document objects"
   ]
  },
  {
   "cell_type": "code",
   "execution_count": 23,
   "id": "933decad",
   "metadata": {},
   "outputs": [
    {
     "name": "stdout",
     "output_type": "stream",
     "text": [
      "[Document(metadata={'producer': 'FREE PDFill PDF and Image Writer', 'creator': 'PScript5.dll Version 5.2.2', 'creationdate': '2024-01-31T19:54:07+05:30', 'title': 'Microsoft Word - Instructions for Online TD - Local Applicants -english.doc', 'author': 'ewis', 'moddate': '2024-01-31T19:54:08+05:30', 'source': '../data/Passport1.pdf', 'total_pages': 4, 'page': 0, 'page_label': '1'}, page_content='Department of Immigration and Emigration \\nOnline Submission of Travel Document Applications –  Local Applicants \\n  \\n \\nInstructions to Online Apply for a Passport \\n(Please read the instructions carefully) \\n \\n1.  How to apply? \\n1.1. You can apply for either urgent service or normal service.  \\n1.2. If you select the urgent service, your travel docum ent will be issued after three days of capturing \\nyour fingerprints. \\n1.3. If you select the normal service, your travel docum ent will be issued after thirty days of capturing \\nyour fingerprints. \\n \\n2.  Eligibility \\n2.1 The eligibility criteria in order to avail this service are as follows: \\n2.1.1  Your age shall be 16 years or above as at th e date of submitting your application. \\n2.1.2  You shall possess your valid passport, if an y.  \\n2.1.3  Your NIC /Passport/Full Name shall not be bl acklisted. \\n2.1.4  You shall not have a travel ban imposed by t he Courts of Law. \\n2.1.5 You shall not have a travel ban imposed by th e Tri-forces or any other government \\nenforcement authority. \\n2.1.6 This online methodology of applying for passp orts cannot be used for applying for Official \\nand Diplomatic Passports. \\n2.1.7 Your NIC number should not be completely chan ged upon renewal / reissuance of NIC. \\n2.2  If you do not comply with the criteria in 2.1 above, you will not be permitted to apply online. S uch \\nan instance, please visit the Head office or a Regi onal office of the Department to apply for your \\nPassport. \\n3.  Documents Required \\n3.1 The documents to be scanned and uploaded for obtaining a passport are as follows. \\n3.1.1. National Identity Card (NIC)  \\n3.1.2. Certificate of Birth  \\n3.1.3  Certificate issued under Section 5(2) of the  Citizenship Act. No. 18 of 1948 (if applicable) \\n3.14  Certificate issued under Section 11 of the Ci tizenship Act. No. 18 of 1948 (if applicable) \\n3.1.5  Certificate of Dual Citizenship (if applicab le) \\n3.1.6  The letter from the employer (if applicable)  \\n3.1.7  Certificate of Marriage (if applicable)'), Document(metadata={'producer': 'FREE PDFill PDF and Image Writer', 'creator': 'PScript5.dll Version 5.2.2', 'creationdate': '2024-01-31T19:54:07+05:30', 'title': 'Microsoft Word - Instructions for Online TD - Local Applicants -english.doc', 'author': 'ewis', 'moddate': '2024-01-31T19:54:08+05:30', 'source': '../data/Passport1.pdf', 'total_pages': 4, 'page': 1, 'page_label': '2'}, page_content='4.  General Instructions   \\n4.1 Please log on to the following URL to apply online. \\nhttps://www.immigration.gov.lk/  \\n4.2 The application must be completed in English. \\n4.3 The applicants who have applied under “Urgent servi ce” will be facilitated to receive passports by \\ncourier service and under the “Normal service” to r eceive passports by registered post.  \\n4.4 The courier charges/postal charges will be borne by the Department.  \\n4.5 If you have already obtained a photograph, please e nter the acknowledgement number of the \\nphotograph. \\n4.6 All documents required to be uploaded shall be in J PEG format and size of file has to be less than 5 \\nMB. \\n5. Instructions on Service Facilitating Centers \\n5.1 You are requested to select one of the following Service Facilitating Centers.  \\n  5.1.1  Head office of the Department  \\n  5.1.2 Regional offices of the Department \\n 5.1.3 Sub offices of the Department for Registrati on of Persons established at nominated \\nDivisional Secretariats (DS –DRP). (Please refer to  No. 8 below for the nominated \\nDS-DRP list.) \\n   5.2 You will be facilitated the following servic es at the selected Service Facilitating Centers. \\n  5.2.1 Capturing the finger print of the applicant  (Mandatory requirement) \\n  5.2.2 Capturing the signature of the applicant (M andatory requirement) \\n  5.2.3 Capturing the Biometric enabled photograph of the applicant (Optional) \\n5.3 Your device will receive a “notification of ass igning the time for online passport” at the event o f \\nsubmitting the application and the mobile phone reg istered will receive the reference No. of the \\napplication through an SMS. \\n5.4 When the payment is made successfully, it will be informed through an SMS. \\n5.5 Immediately after the acknowledgment of your ap plication, you will receive an SMS. You are \\nrequested NOT to report to the relevant Service Fac ilitating Center to submit fingerprints until you \\nreceive the SMS. \\n5.6 You shall be ready to furnish the following doc uments to the sub office of the Department for \\nRegistration of Persons at Divisional Secretariat.   \\n  5.6.1. Message of appointment for providing finge rprints (Mandatory)'), Document(metadata={'producer': 'FREE PDFill PDF and Image Writer', 'creator': 'PScript5.dll Version 5.2.2', 'creationdate': '2024-01-31T19:54:07+05:30', 'title': 'Microsoft Word - Instructions for Online TD - Local Applicants -english.doc', 'author': 'ewis', 'moddate': '2024-01-31T19:54:08+05:30', 'source': '../data/Passport1.pdf', 'total_pages': 4, 'page': 2, 'page_label': '3'}, page_content='5.6.2. Certificate of Birth (Mandatory) \\n5.6.3 National Identity Card (Mandatory) \\n5.6.4 The existing Passport (If any) \\n \\n6.  Conditions to Apply \\n6.1 You must be a citizen of Sri Lanka and reside in th e country at the time of applying in order to apply  \\nfor a Sri Lankan passport. \\n6.2 You should possess a valid mobile number to register for the passport application process and a valid \\nemail address is required to apply for a passport. \\n6.3 If you are applying for a passport for the first ti me you should produce originals of the following \\ndocuments \\n6.3.1 Certificate of Birth  \\n6.3.2 National Identity Card \\n6.4 If you already possess a valid Sri Lankan passport, you should have that passport with you when you \\nare reporting to the Head office, Regional office or DS-DRP units for finger print capturing.  \\n6.5 In case, if you have lost your valid passport, it is a mandatory requirement to report to the Head office \\n/ Regional office of the Department of Immigration and Emigration to process your new passport \\napplication. \\n6.6 Applicants over 60 years of age have to visit the selected DS office to place their signatures. \\n6.7 If you are in between the age of 16 to 60, you are required to visit the Head office / selected Regional \\noffice or DS-DRP in order to capture the photograph and provide your signature and finger prints. \\n \\n7. Payments \\n6.8 Fee for the Urgent service is 15,000 LKR and Normal service is 10,000 LKR. \\n6.9 If you intend to obtain the passport photograph at DS-DRP units, the applicable fee for the same is 350 \\nLKR. \\n6.10  If you want to make online payments, you should possess a valid credit/debit card or else you have \\nthe option to choose the ‘Pay at bank’. \\n6.11  If you select the option ‘Pay at Bank’, first you have to download the receipt and get a printout. Please \\nproduce the printed receipt when you visit the selected Bank of Ceylon (BOC) branch to make the \\npayment.'), Document(metadata={'producer': 'FREE PDFill PDF and Image Writer', 'creator': 'PScript5.dll Version 5.2.2', 'creationdate': '2024-01-31T19:54:07+05:30', 'title': 'Microsoft Word - Instructions for Online TD - Local Applicants -english.doc', 'author': 'ewis', 'moddate': '2024-01-31T19:54:08+05:30', 'source': '../data/Passport1.pdf', 'total_pages': 4, 'page': 3, 'page_label': '4'}, page_content='8. The list of nominated Divisional Secretariat offices with sub offices of Department of Registration of Persons \\n(DS-DRP)  \\n \\nDistrict Divisional Secretariats \\nAmpara  Samanthurai, Pothuvil \\nAnuradhapura Nuwaragam Palatha Central, Kekirawa, Horowpathana \\nBadulla  Mahiyanganaya, Haputale \\nBatticaloa  Koraleipattu (Valachchenai), Kattankudy  \\nColombo  Seethawaka, Homagama \\nGalle  Karandeniya, Akmeemana, Neluwa \\nGampaha  Negombo, Mirigama, Gampaha \\nHambantota  Tangalle, Tissamaharama \\nJaffna  Chavakachcheri, Point Pedro \\nKalutara  Ingiriya, Mathugama, Panadura \\nKandy  Gampola, Kundasale, Pujapitiya \\nKegalle  Galigamuwa, Ruwanwella \\nKilinochchi  Karachchi \\nKurunegala  DRP, North Western Province Regional Of fice, Kuliyapitiya East, \\nNikaweratiya \\nMannar  Manthai West \\nMatale  Nawula \\nMatara  Athuraliya, Devinuwara \\nMonaragala  Buttala \\nMullaitivu Mullaitivu \\nNuwara Eliya  Ambagamuwa, Walapane \\nPolonnaruwa  Elahera, Dimbulagala, Hingurakgoda \\nPuttalam  Puttalam, Chilaw \\nRatnapura  Balangoda, Kuruwita, Embilipitiya \\nTrincomalee  Kinniya \\nVavuniya  Vengalacheddikulam')]\n"
     ]
    }
   ],
   "source": [
    "documents = load_pdf(\"../data/Passport1.pdf\")\n",
    "print(documents)"
   ]
  },
  {
   "cell_type": "code",
   "execution_count": 24,
   "id": "6d2009b7",
   "metadata": {},
   "outputs": [
    {
     "data": {
      "text/plain": [
       "list"
      ]
     },
     "execution_count": 24,
     "metadata": {},
     "output_type": "execute_result"
    }
   ],
   "source": [
    "type(documents)"
   ]
  },
  {
   "cell_type": "code",
   "execution_count": 25,
   "id": "63a27895",
   "metadata": {},
   "outputs": [
    {
     "name": "stdout",
     "output_type": "stream",
     "text": [
      "Department of Immigration and Emigration \n",
      "Online Submission of Travel Document Applications –  Local Applicants \n",
      "  \n",
      " \n",
      "Instructions to Online Apply for a Passport \n",
      "(Please read the instructions carefully) \n",
      " \n",
      "1.  How to apply? \n",
      "1.1. You can apply for either urgent service or normal service.  \n",
      "1.2. If you select the urgent service, your travel docum ent will be issued after three days of capturing \n",
      "your fingerprints. \n",
      "1.3. If you select the normal service, your travel docum ent will be issued after thirty days of capturing \n",
      "your fingerprints. \n",
      " \n",
      "2.  Eligibility \n",
      "2.1 The eligibility criteria in order to avail this service are as follows: \n",
      "2.1.1  Your age shall be 16 years or above as at th e date of submitting your application. \n",
      "2.1.2  You shall possess your valid passport, if an y.  \n",
      "2.1.3  Your NIC /Passport/Full Name shall not be bl acklisted. \n",
      "2.1.4  You shall not have a travel ban imposed by t he Courts of Law. \n",
      "2.1.5 You shall not have a travel ban imposed by th e Tri-forces or any other government \n",
      "enforcement authority. \n",
      "2.1.6 This online methodology of applying for passp orts cannot be used for applying for Official \n",
      "and Diplomatic Passports. \n",
      "2.1.7 Your NIC number should not be completely chan ged upon renewal / reissuance of NIC. \n",
      "2.2  If you do not comply with the criteria in 2.1 above, you will not be permitted to apply online. S uch \n",
      "an instance, please visit the Head office or a Regi onal office of the Department to apply for your \n",
      "Passport. \n",
      "3.  Documents Required \n",
      "3.1 The documents to be scanned and uploaded for obtaining a passport are as follows. \n",
      "3.1.1. National Identity Card (NIC)  \n",
      "3.1.2. Certificate of Birth  \n",
      "3.1.3  Certificate issued under Section 5(2) of the  Citizenship Act. No. 18 of 1948 (if applicable) \n",
      "3.14  Certificate issued under Section 11 of the Ci tizenship Act. No. 18 of 1948 (if applicable) \n",
      "3.1.5  Certificate of Dual Citizenship (if applicab le) \n",
      "3.1.6  The letter from the employer (if applicable)  \n",
      "3.1.7  Certificate of Marriage (if applicable)\n"
     ]
    }
   ],
   "source": [
    "print(documents[0].page_content)"
   ]
  },
  {
   "cell_type": "code",
   "execution_count": 26,
   "id": "94fc23bb",
   "metadata": {},
   "outputs": [
    {
     "data": {
      "text/plain": [
       "4"
      ]
     },
     "execution_count": 26,
     "metadata": {},
     "output_type": "execute_result"
    }
   ],
   "source": [
    "len(documents)"
   ]
  },
  {
   "cell_type": "code",
   "execution_count": 27,
   "id": "ae69b293",
   "metadata": {},
   "outputs": [
    {
     "data": {
      "text/plain": [
       "2015"
      ]
     },
     "execution_count": 27,
     "metadata": {},
     "output_type": "execute_result"
    }
   ],
   "source": [
    "len(documents[0].page_content)"
   ]
  },
  {
   "cell_type": "markdown",
   "id": "b3b8660a",
   "metadata": {},
   "source": [
    "- You can directly give the output of load_pdf() to the split_text function"
   ]
  },
  {
   "cell_type": "markdown",
   "id": "75c200d7",
   "metadata": {},
   "source": [
    "#### Lets Split the text into smaller chunks"
   ]
  },
  {
   "cell_type": "code",
   "execution_count": 29,
   "id": "b1efc31c",
   "metadata": {},
   "outputs": [],
   "source": [
    "from langchain.text_splitter import RecursiveCharacterTextSplitter\n",
    "from typing import List\n",
    "from langchain_core.documents import Document\n",
    "\n",
    "def split_text(documents: List[Document], chunk_size=1000, chunk_overlap=100):\n",
    "    \"\"\"\n",
    "    Split a list of LangChain Document objects into smaller chunks.\n",
    "\n",
    "    Args:\n",
    "        documents (List[Document]): The documents to split.\n",
    "        chunk_size (int): Max size of each chunk.\n",
    "        chunk_overlap (int): Overlap between chunks.\n",
    "\n",
    "    Returns:\n",
    "        List[Document]: Smaller chunks with metadata preserved.\n",
    "    \"\"\"\n",
    "    splitter = RecursiveCharacterTextSplitter(\n",
    "        chunk_size=chunk_size,\n",
    "        chunk_overlap=chunk_overlap\n",
    "    )\n",
    "    chunks = splitter.split_documents(documents) \n",
    "    return chunks\n",
    "# You can directly give the output of load_pdf() to the split_text function"
   ]
  },
  {
   "cell_type": "code",
   "execution_count": 30,
   "id": "7c113f92",
   "metadata": {},
   "outputs": [
    {
     "data": {
      "text/plain": [
       "[Document(metadata={'producer': 'FREE PDFill PDF and Image Writer', 'creator': 'PScript5.dll Version 5.2.2', 'creationdate': '2024-01-31T19:54:07+05:30', 'title': 'Microsoft Word - Instructions for Online TD - Local Applicants -english.doc', 'author': 'ewis', 'moddate': '2024-01-31T19:54:08+05:30', 'source': '../data/Passport1.pdf', 'total_pages': 4, 'page': 0, 'page_label': '1'}, page_content='Department of Immigration and Emigration \\nOnline Submission of Travel Document Applications –  Local Applicants \\n  \\n \\nInstructions to Online Apply for a Passport \\n(Please read the instructions carefully) \\n \\n1.  How to apply? \\n1.1. You can apply for either urgent service or normal service.  \\n1.2. If you select the urgent service, your travel docum ent will be issued after three days of capturing \\nyour fingerprints. \\n1.3. If you select the normal service, your travel docum ent will be issued after thirty days of capturing \\nyour fingerprints. \\n \\n2.  Eligibility \\n2.1 The eligibility criteria in order to avail this service are as follows: \\n2.1.1  Your age shall be 16 years or above as at th e date of submitting your application. \\n2.1.2  You shall possess your valid passport, if an y.  \\n2.1.3  Your NIC /Passport/Full Name shall not be bl acklisted. \\n2.1.4  You shall not have a travel ban imposed by t he Courts of Law.'),\n",
       " Document(metadata={'producer': 'FREE PDFill PDF and Image Writer', 'creator': 'PScript5.dll Version 5.2.2', 'creationdate': '2024-01-31T19:54:07+05:30', 'title': 'Microsoft Word - Instructions for Online TD - Local Applicants -english.doc', 'author': 'ewis', 'moddate': '2024-01-31T19:54:08+05:30', 'source': '../data/Passport1.pdf', 'total_pages': 4, 'page': 0, 'page_label': '1'}, page_content='2.1.4  You shall not have a travel ban imposed by t he Courts of Law. \\n2.1.5 You shall not have a travel ban imposed by th e Tri-forces or any other government \\nenforcement authority. \\n2.1.6 This online methodology of applying for passp orts cannot be used for applying for Official \\nand Diplomatic Passports. \\n2.1.7 Your NIC number should not be completely chan ged upon renewal / reissuance of NIC. \\n2.2  If you do not comply with the criteria in 2.1 above, you will not be permitted to apply online. S uch \\nan instance, please visit the Head office or a Regi onal office of the Department to apply for your \\nPassport. \\n3.  Documents Required \\n3.1 The documents to be scanned and uploaded for obtaining a passport are as follows. \\n3.1.1. National Identity Card (NIC)  \\n3.1.2. Certificate of Birth  \\n3.1.3  Certificate issued under Section 5(2) of the  Citizenship Act. No. 18 of 1948 (if applicable)'),\n",
       " Document(metadata={'producer': 'FREE PDFill PDF and Image Writer', 'creator': 'PScript5.dll Version 5.2.2', 'creationdate': '2024-01-31T19:54:07+05:30', 'title': 'Microsoft Word - Instructions for Online TD - Local Applicants -english.doc', 'author': 'ewis', 'moddate': '2024-01-31T19:54:08+05:30', 'source': '../data/Passport1.pdf', 'total_pages': 4, 'page': 0, 'page_label': '1'}, page_content='3.14  Certificate issued under Section 11 of the Ci tizenship Act. No. 18 of 1948 (if applicable) \\n3.1.5  Certificate of Dual Citizenship (if applicab le) \\n3.1.6  The letter from the employer (if applicable)  \\n3.1.7  Certificate of Marriage (if applicable)'),\n",
       " Document(metadata={'producer': 'FREE PDFill PDF and Image Writer', 'creator': 'PScript5.dll Version 5.2.2', 'creationdate': '2024-01-31T19:54:07+05:30', 'title': 'Microsoft Word - Instructions for Online TD - Local Applicants -english.doc', 'author': 'ewis', 'moddate': '2024-01-31T19:54:08+05:30', 'source': '../data/Passport1.pdf', 'total_pages': 4, 'page': 1, 'page_label': '2'}, page_content='4.  General Instructions   \\n4.1 Please log on to the following URL to apply online. \\nhttps://www.immigration.gov.lk/  \\n4.2 The application must be completed in English. \\n4.3 The applicants who have applied under “Urgent servi ce” will be facilitated to receive passports by \\ncourier service and under the “Normal service” to r eceive passports by registered post.  \\n4.4 The courier charges/postal charges will be borne by the Department.  \\n4.5 If you have already obtained a photograph, please e nter the acknowledgement number of the \\nphotograph. \\n4.6 All documents required to be uploaded shall be in J PEG format and size of file has to be less than 5 \\nMB. \\n5. Instructions on Service Facilitating Centers \\n5.1 You are requested to select one of the following Service Facilitating Centers.  \\n  5.1.1  Head office of the Department  \\n  5.1.2 Regional offices of the Department \\n 5.1.3 Sub offices of the Department for Registrati on of Persons established at nominated'),\n",
       " Document(metadata={'producer': 'FREE PDFill PDF and Image Writer', 'creator': 'PScript5.dll Version 5.2.2', 'creationdate': '2024-01-31T19:54:07+05:30', 'title': 'Microsoft Word - Instructions for Online TD - Local Applicants -english.doc', 'author': 'ewis', 'moddate': '2024-01-31T19:54:08+05:30', 'source': '../data/Passport1.pdf', 'total_pages': 4, 'page': 1, 'page_label': '2'}, page_content='5.1.3 Sub offices of the Department for Registrati on of Persons established at nominated \\nDivisional Secretariats (DS –DRP). (Please refer to  No. 8 below for the nominated \\nDS-DRP list.) \\n   5.2 You will be facilitated the following servic es at the selected Service Facilitating Centers. \\n  5.2.1 Capturing the finger print of the applicant  (Mandatory requirement) \\n  5.2.2 Capturing the signature of the applicant (M andatory requirement) \\n  5.2.3 Capturing the Biometric enabled photograph of the applicant (Optional) \\n5.3 Your device will receive a “notification of ass igning the time for online passport” at the event o f \\nsubmitting the application and the mobile phone reg istered will receive the reference No. of the \\napplication through an SMS. \\n5.4 When the payment is made successfully, it will be informed through an SMS. \\n5.5 Immediately after the acknowledgment of your ap plication, you will receive an SMS. You are'),\n",
       " Document(metadata={'producer': 'FREE PDFill PDF and Image Writer', 'creator': 'PScript5.dll Version 5.2.2', 'creationdate': '2024-01-31T19:54:07+05:30', 'title': 'Microsoft Word - Instructions for Online TD - Local Applicants -english.doc', 'author': 'ewis', 'moddate': '2024-01-31T19:54:08+05:30', 'source': '../data/Passport1.pdf', 'total_pages': 4, 'page': 1, 'page_label': '2'}, page_content='5.5 Immediately after the acknowledgment of your ap plication, you will receive an SMS. You are \\nrequested NOT to report to the relevant Service Fac ilitating Center to submit fingerprints until you \\nreceive the SMS. \\n5.6 You shall be ready to furnish the following doc uments to the sub office of the Department for \\nRegistration of Persons at Divisional Secretariat.   \\n  5.6.1. Message of appointment for providing finge rprints (Mandatory)'),\n",
       " Document(metadata={'producer': 'FREE PDFill PDF and Image Writer', 'creator': 'PScript5.dll Version 5.2.2', 'creationdate': '2024-01-31T19:54:07+05:30', 'title': 'Microsoft Word - Instructions for Online TD - Local Applicants -english.doc', 'author': 'ewis', 'moddate': '2024-01-31T19:54:08+05:30', 'source': '../data/Passport1.pdf', 'total_pages': 4, 'page': 2, 'page_label': '3'}, page_content='5.6.2. Certificate of Birth (Mandatory) \\n5.6.3 National Identity Card (Mandatory) \\n5.6.4 The existing Passport (If any) \\n \\n6.  Conditions to Apply \\n6.1 You must be a citizen of Sri Lanka and reside in th e country at the time of applying in order to apply  \\nfor a Sri Lankan passport. \\n6.2 You should possess a valid mobile number to register for the passport application process and a valid \\nemail address is required to apply for a passport. \\n6.3 If you are applying for a passport for the first ti me you should produce originals of the following \\ndocuments \\n6.3.1 Certificate of Birth  \\n6.3.2 National Identity Card \\n6.4 If you already possess a valid Sri Lankan passport, you should have that passport with you when you \\nare reporting to the Head office, Regional office or DS-DRP units for finger print capturing.  \\n6.5 In case, if you have lost your valid passport, it is a mandatory requirement to report to the Head office'),\n",
       " Document(metadata={'producer': 'FREE PDFill PDF and Image Writer', 'creator': 'PScript5.dll Version 5.2.2', 'creationdate': '2024-01-31T19:54:07+05:30', 'title': 'Microsoft Word - Instructions for Online TD - Local Applicants -english.doc', 'author': 'ewis', 'moddate': '2024-01-31T19:54:08+05:30', 'source': '../data/Passport1.pdf', 'total_pages': 4, 'page': 2, 'page_label': '3'}, page_content='/ Regional office of the Department of Immigration and Emigration to process your new passport \\napplication. \\n6.6 Applicants over 60 years of age have to visit the selected DS office to place their signatures. \\n6.7 If you are in between the age of 16 to 60, you are required to visit the Head office / selected Regional \\noffice or DS-DRP in order to capture the photograph and provide your signature and finger prints. \\n \\n7. Payments \\n6.8 Fee for the Urgent service is 15,000 LKR and Normal service is 10,000 LKR. \\n6.9 If you intend to obtain the passport photograph at DS-DRP units, the applicable fee for the same is 350 \\nLKR. \\n6.10  If you want to make online payments, you should possess a valid credit/debit card or else you have \\nthe option to choose the ‘Pay at bank’. \\n6.11  If you select the option ‘Pay at Bank’, first you have to download the receipt and get a printout. Please \\nproduce the printed receipt when you visit the selected Bank of Ceylon (BOC) branch to make the \\npayment.'),\n",
       " Document(metadata={'producer': 'FREE PDFill PDF and Image Writer', 'creator': 'PScript5.dll Version 5.2.2', 'creationdate': '2024-01-31T19:54:07+05:30', 'title': 'Microsoft Word - Instructions for Online TD - Local Applicants -english.doc', 'author': 'ewis', 'moddate': '2024-01-31T19:54:08+05:30', 'source': '../data/Passport1.pdf', 'total_pages': 4, 'page': 3, 'page_label': '4'}, page_content='8. The list of nominated Divisional Secretariat offices with sub offices of Department of Registration of Persons \\n(DS-DRP)  \\n \\nDistrict Divisional Secretariats \\nAmpara  Samanthurai, Pothuvil \\nAnuradhapura Nuwaragam Palatha Central, Kekirawa, Horowpathana \\nBadulla  Mahiyanganaya, Haputale \\nBatticaloa  Koraleipattu (Valachchenai), Kattankudy  \\nColombo  Seethawaka, Homagama \\nGalle  Karandeniya, Akmeemana, Neluwa \\nGampaha  Negombo, Mirigama, Gampaha \\nHambantota  Tangalle, Tissamaharama \\nJaffna  Chavakachcheri, Point Pedro \\nKalutara  Ingiriya, Mathugama, Panadura \\nKandy  Gampola, Kundasale, Pujapitiya \\nKegalle  Galigamuwa, Ruwanwella \\nKilinochchi  Karachchi \\nKurunegala  DRP, North Western Province Regional Of fice, Kuliyapitiya East, \\nNikaweratiya \\nMannar  Manthai West \\nMatale  Nawula \\nMatara  Athuraliya, Devinuwara \\nMonaragala  Buttala \\nMullaitivu Mullaitivu \\nNuwara Eliya  Ambagamuwa, Walapane \\nPolonnaruwa  Elahera, Dimbulagala, Hingurakgoda \\nPuttalam  Puttalam, Chilaw'),\n",
       " Document(metadata={'producer': 'FREE PDFill PDF and Image Writer', 'creator': 'PScript5.dll Version 5.2.2', 'creationdate': '2024-01-31T19:54:07+05:30', 'title': 'Microsoft Word - Instructions for Online TD - Local Applicants -english.doc', 'author': 'ewis', 'moddate': '2024-01-31T19:54:08+05:30', 'source': '../data/Passport1.pdf', 'total_pages': 4, 'page': 3, 'page_label': '4'}, page_content='Polonnaruwa  Elahera, Dimbulagala, Hingurakgoda \\nPuttalam  Puttalam, Chilaw \\nRatnapura  Balangoda, Kuruwita, Embilipitiya \\nTrincomalee  Kinniya \\nVavuniya  Vengalacheddikulam')]"
      ]
     },
     "execution_count": 30,
     "metadata": {},
     "output_type": "execute_result"
    }
   ],
   "source": [
    "chunks = split_text(documents)\n",
    "chunks"
   ]
  },
  {
   "cell_type": "code",
   "execution_count": 31,
   "id": "f43a556f",
   "metadata": {},
   "outputs": [
    {
     "data": {
      "text/plain": [
       "list"
      ]
     },
     "execution_count": 31,
     "metadata": {},
     "output_type": "execute_result"
    }
   ],
   "source": [
    "type(chunks)"
   ]
  },
  {
   "cell_type": "code",
   "execution_count": 33,
   "id": "2c4256b3",
   "metadata": {},
   "outputs": [
    {
     "name": "stdout",
     "output_type": "stream",
     "text": [
      "Department of Immigration and Emigration \n",
      "Online Submission of Travel Document Applications –  Local Applicants \n",
      "  \n",
      " \n",
      "Instructions to Online Apply for a Passport \n",
      "(Please read the instructions carefully) \n",
      " \n",
      "1.  How to apply? \n",
      "1.1. You can apply for either urgent service or normal service.  \n",
      "1.2. If you select the urgent service, your travel docum ent will be issued after three days of capturing \n",
      "your fingerprints. \n",
      "1.3. If you select the normal service, your travel docum ent will be issued after thirty days of capturing \n",
      "your fingerprints. \n",
      " \n",
      "2.  Eligibility \n",
      "2.1 The eligibility criteria in order to avail this service are as follows: \n",
      "2.1.1  Your age shall be 16 years or above as at th e date of submitting your application. \n",
      "2.1.2  You shall possess your valid passport, if an y.  \n",
      "2.1.3  Your NIC /Passport/Full Name shall not be bl acklisted. \n",
      "2.1.4  You shall not have a travel ban imposed by t he Courts of Law.\n",
      "----------------------------------------------\n",
      "2.1.4  You shall not have a travel ban imposed by t he Courts of Law. \n",
      "2.1.5 You shall not have a travel ban imposed by th e Tri-forces or any other government \n",
      "enforcement authority. \n",
      "2.1.6 This online methodology of applying for passp orts cannot be used for applying for Official \n",
      "and Diplomatic Passports. \n",
      "2.1.7 Your NIC number should not be completely chan ged upon renewal / reissuance of NIC. \n",
      "2.2  If you do not comply with the criteria in 2.1 above, you will not be permitted to apply online. S uch \n",
      "an instance, please visit the Head office or a Regi onal office of the Department to apply for your \n",
      "Passport. \n",
      "3.  Documents Required \n",
      "3.1 The documents to be scanned and uploaded for obtaining a passport are as follows. \n",
      "3.1.1. National Identity Card (NIC)  \n",
      "3.1.2. Certificate of Birth  \n",
      "3.1.3  Certificate issued under Section 5(2) of the  Citizenship Act. No. 18 of 1948 (if applicable)\n",
      "----------------------------------------------\n",
      "3.14  Certificate issued under Section 11 of the Ci tizenship Act. No. 18 of 1948 (if applicable) \n",
      "3.1.5  Certificate of Dual Citizenship (if applicab le) \n",
      "3.1.6  The letter from the employer (if applicable)  \n",
      "3.1.7  Certificate of Marriage (if applicable)\n",
      "----------------------------------------------\n",
      "4.  General Instructions   \n",
      "4.1 Please log on to the following URL to apply online. \n",
      "https://www.immigration.gov.lk/  \n",
      "4.2 The application must be completed in English. \n",
      "4.3 The applicants who have applied under “Urgent servi ce” will be facilitated to receive passports by \n",
      "courier service and under the “Normal service” to r eceive passports by registered post.  \n",
      "4.4 The courier charges/postal charges will be borne by the Department.  \n",
      "4.5 If you have already obtained a photograph, please e nter the acknowledgement number of the \n",
      "photograph. \n",
      "4.6 All documents required to be uploaded shall be in J PEG format and size of file has to be less than 5 \n",
      "MB. \n",
      "5. Instructions on Service Facilitating Centers \n",
      "5.1 You are requested to select one of the following Service Facilitating Centers.  \n",
      "  5.1.1  Head office of the Department  \n",
      "  5.1.2 Regional offices of the Department \n",
      " 5.1.3 Sub offices of the Department for Registrati on of Persons established at nominated\n",
      "----------------------------------------------\n",
      "5.1.3 Sub offices of the Department for Registrati on of Persons established at nominated \n",
      "Divisional Secretariats (DS –DRP). (Please refer to  No. 8 below for the nominated \n",
      "DS-DRP list.) \n",
      "   5.2 You will be facilitated the following servic es at the selected Service Facilitating Centers. \n",
      "  5.2.1 Capturing the finger print of the applicant  (Mandatory requirement) \n",
      "  5.2.2 Capturing the signature of the applicant (M andatory requirement) \n",
      "  5.2.3 Capturing the Biometric enabled photograph of the applicant (Optional) \n",
      "5.3 Your device will receive a “notification of ass igning the time for online passport” at the event o f \n",
      "submitting the application and the mobile phone reg istered will receive the reference No. of the \n",
      "application through an SMS. \n",
      "5.4 When the payment is made successfully, it will be informed through an SMS. \n",
      "5.5 Immediately after the acknowledgment of your ap plication, you will receive an SMS. You are\n",
      "----------------------------------------------\n",
      "5.5 Immediately after the acknowledgment of your ap plication, you will receive an SMS. You are \n",
      "requested NOT to report to the relevant Service Fac ilitating Center to submit fingerprints until you \n",
      "receive the SMS. \n",
      "5.6 You shall be ready to furnish the following doc uments to the sub office of the Department for \n",
      "Registration of Persons at Divisional Secretariat.   \n",
      "  5.6.1. Message of appointment for providing finge rprints (Mandatory)\n",
      "----------------------------------------------\n",
      "5.6.2. Certificate of Birth (Mandatory) \n",
      "5.6.3 National Identity Card (Mandatory) \n",
      "5.6.4 The existing Passport (If any) \n",
      " \n",
      "6.  Conditions to Apply \n",
      "6.1 You must be a citizen of Sri Lanka and reside in th e country at the time of applying in order to apply  \n",
      "for a Sri Lankan passport. \n",
      "6.2 You should possess a valid mobile number to register for the passport application process and a valid \n",
      "email address is required to apply for a passport. \n",
      "6.3 If you are applying for a passport for the first ti me you should produce originals of the following \n",
      "documents \n",
      "6.3.1 Certificate of Birth  \n",
      "6.3.2 National Identity Card \n",
      "6.4 If you already possess a valid Sri Lankan passport, you should have that passport with you when you \n",
      "are reporting to the Head office, Regional office or DS-DRP units for finger print capturing.  \n",
      "6.5 In case, if you have lost your valid passport, it is a mandatory requirement to report to the Head office\n",
      "----------------------------------------------\n",
      "/ Regional office of the Department of Immigration and Emigration to process your new passport \n",
      "application. \n",
      "6.6 Applicants over 60 years of age have to visit the selected DS office to place their signatures. \n",
      "6.7 If you are in between the age of 16 to 60, you are required to visit the Head office / selected Regional \n",
      "office or DS-DRP in order to capture the photograph and provide your signature and finger prints. \n",
      " \n",
      "7. Payments \n",
      "6.8 Fee for the Urgent service is 15,000 LKR and Normal service is 10,000 LKR. \n",
      "6.9 If you intend to obtain the passport photograph at DS-DRP units, the applicable fee for the same is 350 \n",
      "LKR. \n",
      "6.10  If you want to make online payments, you should possess a valid credit/debit card or else you have \n",
      "the option to choose the ‘Pay at bank’. \n",
      "6.11  If you select the option ‘Pay at Bank’, first you have to download the receipt and get a printout. Please \n",
      "produce the printed receipt when you visit the selected Bank of Ceylon (BOC) branch to make the \n",
      "payment.\n",
      "----------------------------------------------\n",
      "8. The list of nominated Divisional Secretariat offices with sub offices of Department of Registration of Persons \n",
      "(DS-DRP)  \n",
      " \n",
      "District Divisional Secretariats \n",
      "Ampara  Samanthurai, Pothuvil \n",
      "Anuradhapura Nuwaragam Palatha Central, Kekirawa, Horowpathana \n",
      "Badulla  Mahiyanganaya, Haputale \n",
      "Batticaloa  Koraleipattu (Valachchenai), Kattankudy  \n",
      "Colombo  Seethawaka, Homagama \n",
      "Galle  Karandeniya, Akmeemana, Neluwa \n",
      "Gampaha  Negombo, Mirigama, Gampaha \n",
      "Hambantota  Tangalle, Tissamaharama \n",
      "Jaffna  Chavakachcheri, Point Pedro \n",
      "Kalutara  Ingiriya, Mathugama, Panadura \n",
      "Kandy  Gampola, Kundasale, Pujapitiya \n",
      "Kegalle  Galigamuwa, Ruwanwella \n",
      "Kilinochchi  Karachchi \n",
      "Kurunegala  DRP, North Western Province Regional Of fice, Kuliyapitiya East, \n",
      "Nikaweratiya \n",
      "Mannar  Manthai West \n",
      "Matale  Nawula \n",
      "Matara  Athuraliya, Devinuwara \n",
      "Monaragala  Buttala \n",
      "Mullaitivu Mullaitivu \n",
      "Nuwara Eliya  Ambagamuwa, Walapane \n",
      "Polonnaruwa  Elahera, Dimbulagala, Hingurakgoda \n",
      "Puttalam  Puttalam, Chilaw\n",
      "----------------------------------------------\n",
      "Polonnaruwa  Elahera, Dimbulagala, Hingurakgoda \n",
      "Puttalam  Puttalam, Chilaw \n",
      "Ratnapura  Balangoda, Kuruwita, Embilipitiya \n",
      "Trincomalee  Kinniya \n",
      "Vavuniya  Vengalacheddikulam\n",
      "----------------------------------------------\n"
     ]
    }
   ],
   "source": [
    "for i in chunks:\n",
    "    print(i.page_content)\n",
    "    print(\"----------------------------------------------\")"
   ]
  },
  {
   "cell_type": "code",
   "execution_count": 35,
   "id": "44e62c89",
   "metadata": {},
   "outputs": [
    {
     "name": "stdout",
     "output_type": "stream",
     "text": [
      "Department of Immigration and Emigration \n",
      "Online Submission of Travel Document Applications –  Local Applicants \n",
      "  \n",
      " \n",
      "Instructions to Online Apply for a Passport \n",
      "(Please read the instructions carefully) \n",
      " \n",
      "1.  How to apply? \n",
      "1.1. You can apply for either urgent service or normal service.  \n",
      "1.2. If you select the urgent service, your travel docum ent will be issued after three days of capturing \n",
      "your fingerprints. \n",
      "1.3. If you select the normal service, your travel docum ent will be issued after thirty days of capturing \n",
      "your fingerprints. \n",
      " \n",
      "2.  Eligibility \n",
      "2.1 The eligibility criteria in order to avail this service are as follows: \n",
      "2.1.1  Your age shall be 16 years or above as at th e date of submitting your application. \n",
      "2.1.2  You shall possess your valid passport, if an y.  \n",
      "2.1.3  Your NIC /Passport/Full Name shall not be bl acklisted. \n",
      "2.1.4  You shall not have a travel ban imposed by t he Courts of Law.\n"
     ]
    }
   ],
   "source": [
    "print(chunks[0].page_content)"
   ]
  },
  {
   "cell_type": "code",
   "execution_count": null,
   "id": "a2e268a2",
   "metadata": {},
   "outputs": [],
   "source": []
  }
 ],
 "metadata": {
  "kernelspec": {
   "display_name": "Python 3",
   "language": "python",
   "name": "python3"
  },
  "language_info": {
   "codemirror_mode": {
    "name": "ipython",
    "version": 3
   },
   "file_extension": ".py",
   "mimetype": "text/x-python",
   "name": "python",
   "nbconvert_exporter": "python",
   "pygments_lexer": "ipython3",
   "version": "3.11.13"
  }
 },
 "nbformat": 4,
 "nbformat_minor": 5
}
