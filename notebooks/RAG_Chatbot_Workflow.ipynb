{
 "cells": [
  {
   "cell_type": "markdown",
   "id": "b240063c",
   "metadata": {},
   "source": [
    "#### Load Data From PDF"
   ]
  },
  {
   "cell_type": "code",
   "execution_count": 31,
   "id": "25db3eb4",
   "metadata": {},
   "outputs": [],
   "source": [
    "from langchain_community.document_loaders import PyPDFLoader\n",
    "\n",
    "def load_pdf(file_path: str):\n",
    "    \"\"\"\n",
    "    Load a PDF file and return its content as a list of documents.\n",
    "\n",
    "    Args:\n",
    "        file_path (str): The path to the PDF file.\n",
    "\n",
    "    Returns:\n",
    "        list: A list of documents extracted from the PDF.\n",
    "    \"\"\"\n",
    "    loader = PyPDFLoader(file_path)\n",
    "    documents = loader.load()\n",
    "    \n",
    "    return documents  # This returns a list of Document objects"
   ]
  },
  {
   "cell_type": "code",
   "execution_count": 32,
   "id": "933decad",
   "metadata": {},
   "outputs": [
    {
     "name": "stdout",
     "output_type": "stream",
     "text": [
      "[Document(metadata={'producer': 'FREE PDFill PDF and Image Writer', 'creator': 'PScript5.dll Version 5.2.2', 'creationdate': '2024-01-31T19:54:07+05:30', 'title': 'Microsoft Word - Instructions for Online TD - Local Applicants -english.doc', 'author': 'ewis', 'moddate': '2024-01-31T19:54:08+05:30', 'source': '../data/Passport1.pdf', 'total_pages': 4, 'page': 0, 'page_label': '1'}, page_content='Department of Immigration and Emigration \\nOnline Submission of Travel Document Applications –  Local Applicants \\n  \\n \\nInstructions to Online Apply for a Passport \\n(Please read the instructions carefully) \\n \\n1.  How to apply? \\n1.1. You can apply for either urgent service or normal service.  \\n1.2. If you select the urgent service, your travel docum ent will be issued after three days of capturing \\nyour fingerprints. \\n1.3. If you select the normal service, your travel docum ent will be issued after thirty days of capturing \\nyour fingerprints. \\n \\n2.  Eligibility \\n2.1 The eligibility criteria in order to avail this service are as follows: \\n2.1.1  Your age shall be 16 years or above as at th e date of submitting your application. \\n2.1.2  You shall possess your valid passport, if an y.  \\n2.1.3  Your NIC /Passport/Full Name shall not be bl acklisted. \\n2.1.4  You shall not have a travel ban imposed by t he Courts of Law. \\n2.1.5 You shall not have a travel ban imposed by th e Tri-forces or any other government \\nenforcement authority. \\n2.1.6 This online methodology of applying for passp orts cannot be used for applying for Official \\nand Diplomatic Passports. \\n2.1.7 Your NIC number should not be completely chan ged upon renewal / reissuance of NIC. \\n2.2  If you do not comply with the criteria in 2.1 above, you will not be permitted to apply online. S uch \\nan instance, please visit the Head office or a Regi onal office of the Department to apply for your \\nPassport. \\n3.  Documents Required \\n3.1 The documents to be scanned and uploaded for obtaining a passport are as follows. \\n3.1.1. National Identity Card (NIC)  \\n3.1.2. Certificate of Birth  \\n3.1.3  Certificate issued under Section 5(2) of the  Citizenship Act. No. 18 of 1948 (if applicable) \\n3.14  Certificate issued under Section 11 of the Ci tizenship Act. No. 18 of 1948 (if applicable) \\n3.1.5  Certificate of Dual Citizenship (if applicab le) \\n3.1.6  The letter from the employer (if applicable)  \\n3.1.7  Certificate of Marriage (if applicable)'), Document(metadata={'producer': 'FREE PDFill PDF and Image Writer', 'creator': 'PScript5.dll Version 5.2.2', 'creationdate': '2024-01-31T19:54:07+05:30', 'title': 'Microsoft Word - Instructions for Online TD - Local Applicants -english.doc', 'author': 'ewis', 'moddate': '2024-01-31T19:54:08+05:30', 'source': '../data/Passport1.pdf', 'total_pages': 4, 'page': 1, 'page_label': '2'}, page_content='4.  General Instructions   \\n4.1 Please log on to the following URL to apply online. \\nhttps://www.immigration.gov.lk/  \\n4.2 The application must be completed in English. \\n4.3 The applicants who have applied under “Urgent servi ce” will be facilitated to receive passports by \\ncourier service and under the “Normal service” to r eceive passports by registered post.  \\n4.4 The courier charges/postal charges will be borne by the Department.  \\n4.5 If you have already obtained a photograph, please e nter the acknowledgement number of the \\nphotograph. \\n4.6 All documents required to be uploaded shall be in J PEG format and size of file has to be less than 5 \\nMB. \\n5. Instructions on Service Facilitating Centers \\n5.1 You are requested to select one of the following Service Facilitating Centers.  \\n  5.1.1  Head office of the Department  \\n  5.1.2 Regional offices of the Department \\n 5.1.3 Sub offices of the Department for Registrati on of Persons established at nominated \\nDivisional Secretariats (DS –DRP). (Please refer to  No. 8 below for the nominated \\nDS-DRP list.) \\n   5.2 You will be facilitated the following servic es at the selected Service Facilitating Centers. \\n  5.2.1 Capturing the finger print of the applicant  (Mandatory requirement) \\n  5.2.2 Capturing the signature of the applicant (M andatory requirement) \\n  5.2.3 Capturing the Biometric enabled photograph of the applicant (Optional) \\n5.3 Your device will receive a “notification of ass igning the time for online passport” at the event o f \\nsubmitting the application and the mobile phone reg istered will receive the reference No. of the \\napplication through an SMS. \\n5.4 When the payment is made successfully, it will be informed through an SMS. \\n5.5 Immediately after the acknowledgment of your ap plication, you will receive an SMS. You are \\nrequested NOT to report to the relevant Service Fac ilitating Center to submit fingerprints until you \\nreceive the SMS. \\n5.6 You shall be ready to furnish the following doc uments to the sub office of the Department for \\nRegistration of Persons at Divisional Secretariat.   \\n  5.6.1. Message of appointment for providing finge rprints (Mandatory)'), Document(metadata={'producer': 'FREE PDFill PDF and Image Writer', 'creator': 'PScript5.dll Version 5.2.2', 'creationdate': '2024-01-31T19:54:07+05:30', 'title': 'Microsoft Word - Instructions for Online TD - Local Applicants -english.doc', 'author': 'ewis', 'moddate': '2024-01-31T19:54:08+05:30', 'source': '../data/Passport1.pdf', 'total_pages': 4, 'page': 2, 'page_label': '3'}, page_content='5.6.2. Certificate of Birth (Mandatory) \\n5.6.3 National Identity Card (Mandatory) \\n5.6.4 The existing Passport (If any) \\n \\n6.  Conditions to Apply \\n6.1 You must be a citizen of Sri Lanka and reside in th e country at the time of applying in order to apply  \\nfor a Sri Lankan passport. \\n6.2 You should possess a valid mobile number to register for the passport application process and a valid \\nemail address is required to apply for a passport. \\n6.3 If you are applying for a passport for the first ti me you should produce originals of the following \\ndocuments \\n6.3.1 Certificate of Birth  \\n6.3.2 National Identity Card \\n6.4 If you already possess a valid Sri Lankan passport, you should have that passport with you when you \\nare reporting to the Head office, Regional office or DS-DRP units for finger print capturing.  \\n6.5 In case, if you have lost your valid passport, it is a mandatory requirement to report to the Head office \\n/ Regional office of the Department of Immigration and Emigration to process your new passport \\napplication. \\n6.6 Applicants over 60 years of age have to visit the selected DS office to place their signatures. \\n6.7 If you are in between the age of 16 to 60, you are required to visit the Head office / selected Regional \\noffice or DS-DRP in order to capture the photograph and provide your signature and finger prints. \\n \\n7. Payments \\n6.8 Fee for the Urgent service is 15,000 LKR and Normal service is 10,000 LKR. \\n6.9 If you intend to obtain the passport photograph at DS-DRP units, the applicable fee for the same is 350 \\nLKR. \\n6.10  If you want to make online payments, you should possess a valid credit/debit card or else you have \\nthe option to choose the ‘Pay at bank’. \\n6.11  If you select the option ‘Pay at Bank’, first you have to download the receipt and get a printout. Please \\nproduce the printed receipt when you visit the selected Bank of Ceylon (BOC) branch to make the \\npayment.'), Document(metadata={'producer': 'FREE PDFill PDF and Image Writer', 'creator': 'PScript5.dll Version 5.2.2', 'creationdate': '2024-01-31T19:54:07+05:30', 'title': 'Microsoft Word - Instructions for Online TD - Local Applicants -english.doc', 'author': 'ewis', 'moddate': '2024-01-31T19:54:08+05:30', 'source': '../data/Passport1.pdf', 'total_pages': 4, 'page': 3, 'page_label': '4'}, page_content='8. The list of nominated Divisional Secretariat offices with sub offices of Department of Registration of Persons \\n(DS-DRP)  \\n \\nDistrict Divisional Secretariats \\nAmpara  Samanthurai, Pothuvil \\nAnuradhapura Nuwaragam Palatha Central, Kekirawa, Horowpathana \\nBadulla  Mahiyanganaya, Haputale \\nBatticaloa  Koraleipattu (Valachchenai), Kattankudy  \\nColombo  Seethawaka, Homagama \\nGalle  Karandeniya, Akmeemana, Neluwa \\nGampaha  Negombo, Mirigama, Gampaha \\nHambantota  Tangalle, Tissamaharama \\nJaffna  Chavakachcheri, Point Pedro \\nKalutara  Ingiriya, Mathugama, Panadura \\nKandy  Gampola, Kundasale, Pujapitiya \\nKegalle  Galigamuwa, Ruwanwella \\nKilinochchi  Karachchi \\nKurunegala  DRP, North Western Province Regional Of fice, Kuliyapitiya East, \\nNikaweratiya \\nMannar  Manthai West \\nMatale  Nawula \\nMatara  Athuraliya, Devinuwara \\nMonaragala  Buttala \\nMullaitivu Mullaitivu \\nNuwara Eliya  Ambagamuwa, Walapane \\nPolonnaruwa  Elahera, Dimbulagala, Hingurakgoda \\nPuttalam  Puttalam, Chilaw \\nRatnapura  Balangoda, Kuruwita, Embilipitiya \\nTrincomalee  Kinniya \\nVavuniya  Vengalacheddikulam')]\n"
     ]
    }
   ],
   "source": [
    "documents = load_pdf(\"../data/Passport1.pdf\")\n",
    "print(documents)"
   ]
  },
  {
   "cell_type": "code",
   "execution_count": 33,
   "id": "6d2009b7",
   "metadata": {},
   "outputs": [
    {
     "data": {
      "text/plain": [
       "list"
      ]
     },
     "execution_count": 33,
     "metadata": {},
     "output_type": "execute_result"
    }
   ],
   "source": [
    "type(documents)"
   ]
  },
  {
   "cell_type": "code",
   "execution_count": 34,
   "id": "63a27895",
   "metadata": {},
   "outputs": [
    {
     "name": "stdout",
     "output_type": "stream",
     "text": [
      "Department of Immigration and Emigration \n",
      "Online Submission of Travel Document Applications –  Local Applicants \n",
      "  \n",
      " \n",
      "Instructions to Online Apply for a Passport \n",
      "(Please read the instructions carefully) \n",
      " \n",
      "1.  How to apply? \n",
      "1.1. You can apply for either urgent service or normal service.  \n",
      "1.2. If you select the urgent service, your travel docum ent will be issued after three days of capturing \n",
      "your fingerprints. \n",
      "1.3. If you select the normal service, your travel docum ent will be issued after thirty days of capturing \n",
      "your fingerprints. \n",
      " \n",
      "2.  Eligibility \n",
      "2.1 The eligibility criteria in order to avail this service are as follows: \n",
      "2.1.1  Your age shall be 16 years or above as at th e date of submitting your application. \n",
      "2.1.2  You shall possess your valid passport, if an y.  \n",
      "2.1.3  Your NIC /Passport/Full Name shall not be bl acklisted. \n",
      "2.1.4  You shall not have a travel ban imposed by t he Courts of Law. \n",
      "2.1.5 You shall not have a travel ban imposed by th e Tri-forces or any other government \n",
      "enforcement authority. \n",
      "2.1.6 This online methodology of applying for passp orts cannot be used for applying for Official \n",
      "and Diplomatic Passports. \n",
      "2.1.7 Your NIC number should not be completely chan ged upon renewal / reissuance of NIC. \n",
      "2.2  If you do not comply with the criteria in 2.1 above, you will not be permitted to apply online. S uch \n",
      "an instance, please visit the Head office or a Regi onal office of the Department to apply for your \n",
      "Passport. \n",
      "3.  Documents Required \n",
      "3.1 The documents to be scanned and uploaded for obtaining a passport are as follows. \n",
      "3.1.1. National Identity Card (NIC)  \n",
      "3.1.2. Certificate of Birth  \n",
      "3.1.3  Certificate issued under Section 5(2) of the  Citizenship Act. No. 18 of 1948 (if applicable) \n",
      "3.14  Certificate issued under Section 11 of the Ci tizenship Act. No. 18 of 1948 (if applicable) \n",
      "3.1.5  Certificate of Dual Citizenship (if applicab le) \n",
      "3.1.6  The letter from the employer (if applicable)  \n",
      "3.1.7  Certificate of Marriage (if applicable)\n"
     ]
    }
   ],
   "source": [
    "print(documents[0].page_content)"
   ]
  },
  {
   "cell_type": "code",
   "execution_count": 35,
   "id": "94fc23bb",
   "metadata": {},
   "outputs": [
    {
     "data": {
      "text/plain": [
       "4"
      ]
     },
     "execution_count": 35,
     "metadata": {},
     "output_type": "execute_result"
    }
   ],
   "source": [
    "len(documents)"
   ]
  },
  {
   "cell_type": "code",
   "execution_count": 36,
   "id": "ae69b293",
   "metadata": {},
   "outputs": [
    {
     "data": {
      "text/plain": [
       "2015"
      ]
     },
     "execution_count": 36,
     "metadata": {},
     "output_type": "execute_result"
    }
   ],
   "source": [
    "len(documents[0].page_content)"
   ]
  },
  {
   "cell_type": "markdown",
   "id": "b3b8660a",
   "metadata": {},
   "source": [
    "- You can directly give the output of load_pdf() to the split_text function"
   ]
  },
  {
   "cell_type": "markdown",
   "id": "75c200d7",
   "metadata": {},
   "source": [
    "#### Lets Split the text into smaller chunks"
   ]
  },
  {
   "cell_type": "code",
   "execution_count": 37,
   "id": "b1efc31c",
   "metadata": {},
   "outputs": [],
   "source": [
    "from langchain.text_splitter import RecursiveCharacterTextSplitter\n",
    "from typing import List\n",
    "from langchain_core.documents import Document\n",
    "\n",
    "def split_text(documents: List[Document], chunk_size=1000, chunk_overlap=100):\n",
    "    \"\"\"\n",
    "    Split a list of LangChain Document objects into smaller chunks.\n",
    "\n",
    "    Args:\n",
    "        documents (List[Document]): The documents to split.\n",
    "        chunk_size (int): Max size of each chunk.\n",
    "        chunk_overlap (int): Overlap between chunks.\n",
    "\n",
    "    Returns:\n",
    "        List[Document]: Smaller chunks with metadata preserved.\n",
    "    \"\"\"\n",
    "    splitter = RecursiveCharacterTextSplitter(\n",
    "        chunk_size=chunk_size,\n",
    "        chunk_overlap=chunk_overlap\n",
    "    )\n",
    "    chunks = splitter.split_documents(documents) \n",
    "    return chunks\n",
    "# You can directly give the output of load_pdf() to the split_text function"
   ]
  },
  {
   "cell_type": "code",
   "execution_count": 38,
   "id": "7c113f92",
   "metadata": {},
   "outputs": [
    {
     "data": {
      "text/plain": [
       "[Document(metadata={'producer': 'FREE PDFill PDF and Image Writer', 'creator': 'PScript5.dll Version 5.2.2', 'creationdate': '2024-01-31T19:54:07+05:30', 'title': 'Microsoft Word - Instructions for Online TD - Local Applicants -english.doc', 'author': 'ewis', 'moddate': '2024-01-31T19:54:08+05:30', 'source': '../data/Passport1.pdf', 'total_pages': 4, 'page': 0, 'page_label': '1'}, page_content='Department of Immigration and Emigration \\nOnline Submission of Travel Document Applications –  Local Applicants \\n  \\n \\nInstructions to Online Apply for a Passport \\n(Please read the instructions carefully) \\n \\n1.  How to apply? \\n1.1. You can apply for either urgent service or normal service.  \\n1.2. If you select the urgent service, your travel docum ent will be issued after three days of capturing \\nyour fingerprints. \\n1.3. If you select the normal service, your travel docum ent will be issued after thirty days of capturing \\nyour fingerprints. \\n \\n2.  Eligibility \\n2.1 The eligibility criteria in order to avail this service are as follows: \\n2.1.1  Your age shall be 16 years or above as at th e date of submitting your application. \\n2.1.2  You shall possess your valid passport, if an y.  \\n2.1.3  Your NIC /Passport/Full Name shall not be bl acklisted. \\n2.1.4  You shall not have a travel ban imposed by t he Courts of Law.'),\n",
       " Document(metadata={'producer': 'FREE PDFill PDF and Image Writer', 'creator': 'PScript5.dll Version 5.2.2', 'creationdate': '2024-01-31T19:54:07+05:30', 'title': 'Microsoft Word - Instructions for Online TD - Local Applicants -english.doc', 'author': 'ewis', 'moddate': '2024-01-31T19:54:08+05:30', 'source': '../data/Passport1.pdf', 'total_pages': 4, 'page': 0, 'page_label': '1'}, page_content='2.1.4  You shall not have a travel ban imposed by t he Courts of Law. \\n2.1.5 You shall not have a travel ban imposed by th e Tri-forces or any other government \\nenforcement authority. \\n2.1.6 This online methodology of applying for passp orts cannot be used for applying for Official \\nand Diplomatic Passports. \\n2.1.7 Your NIC number should not be completely chan ged upon renewal / reissuance of NIC. \\n2.2  If you do not comply with the criteria in 2.1 above, you will not be permitted to apply online. S uch \\nan instance, please visit the Head office or a Regi onal office of the Department to apply for your \\nPassport. \\n3.  Documents Required \\n3.1 The documents to be scanned and uploaded for obtaining a passport are as follows. \\n3.1.1. National Identity Card (NIC)  \\n3.1.2. Certificate of Birth  \\n3.1.3  Certificate issued under Section 5(2) of the  Citizenship Act. No. 18 of 1948 (if applicable)'),\n",
       " Document(metadata={'producer': 'FREE PDFill PDF and Image Writer', 'creator': 'PScript5.dll Version 5.2.2', 'creationdate': '2024-01-31T19:54:07+05:30', 'title': 'Microsoft Word - Instructions for Online TD - Local Applicants -english.doc', 'author': 'ewis', 'moddate': '2024-01-31T19:54:08+05:30', 'source': '../data/Passport1.pdf', 'total_pages': 4, 'page': 0, 'page_label': '1'}, page_content='3.14  Certificate issued under Section 11 of the Ci tizenship Act. No. 18 of 1948 (if applicable) \\n3.1.5  Certificate of Dual Citizenship (if applicab le) \\n3.1.6  The letter from the employer (if applicable)  \\n3.1.7  Certificate of Marriage (if applicable)'),\n",
       " Document(metadata={'producer': 'FREE PDFill PDF and Image Writer', 'creator': 'PScript5.dll Version 5.2.2', 'creationdate': '2024-01-31T19:54:07+05:30', 'title': 'Microsoft Word - Instructions for Online TD - Local Applicants -english.doc', 'author': 'ewis', 'moddate': '2024-01-31T19:54:08+05:30', 'source': '../data/Passport1.pdf', 'total_pages': 4, 'page': 1, 'page_label': '2'}, page_content='4.  General Instructions   \\n4.1 Please log on to the following URL to apply online. \\nhttps://www.immigration.gov.lk/  \\n4.2 The application must be completed in English. \\n4.3 The applicants who have applied under “Urgent servi ce” will be facilitated to receive passports by \\ncourier service and under the “Normal service” to r eceive passports by registered post.  \\n4.4 The courier charges/postal charges will be borne by the Department.  \\n4.5 If you have already obtained a photograph, please e nter the acknowledgement number of the \\nphotograph. \\n4.6 All documents required to be uploaded shall be in J PEG format and size of file has to be less than 5 \\nMB. \\n5. Instructions on Service Facilitating Centers \\n5.1 You are requested to select one of the following Service Facilitating Centers.  \\n  5.1.1  Head office of the Department  \\n  5.1.2 Regional offices of the Department \\n 5.1.3 Sub offices of the Department for Registrati on of Persons established at nominated'),\n",
       " Document(metadata={'producer': 'FREE PDFill PDF and Image Writer', 'creator': 'PScript5.dll Version 5.2.2', 'creationdate': '2024-01-31T19:54:07+05:30', 'title': 'Microsoft Word - Instructions for Online TD - Local Applicants -english.doc', 'author': 'ewis', 'moddate': '2024-01-31T19:54:08+05:30', 'source': '../data/Passport1.pdf', 'total_pages': 4, 'page': 1, 'page_label': '2'}, page_content='5.1.3 Sub offices of the Department for Registrati on of Persons established at nominated \\nDivisional Secretariats (DS –DRP). (Please refer to  No. 8 below for the nominated \\nDS-DRP list.) \\n   5.2 You will be facilitated the following servic es at the selected Service Facilitating Centers. \\n  5.2.1 Capturing the finger print of the applicant  (Mandatory requirement) \\n  5.2.2 Capturing the signature of the applicant (M andatory requirement) \\n  5.2.3 Capturing the Biometric enabled photograph of the applicant (Optional) \\n5.3 Your device will receive a “notification of ass igning the time for online passport” at the event o f \\nsubmitting the application and the mobile phone reg istered will receive the reference No. of the \\napplication through an SMS. \\n5.4 When the payment is made successfully, it will be informed through an SMS. \\n5.5 Immediately after the acknowledgment of your ap plication, you will receive an SMS. You are'),\n",
       " Document(metadata={'producer': 'FREE PDFill PDF and Image Writer', 'creator': 'PScript5.dll Version 5.2.2', 'creationdate': '2024-01-31T19:54:07+05:30', 'title': 'Microsoft Word - Instructions for Online TD - Local Applicants -english.doc', 'author': 'ewis', 'moddate': '2024-01-31T19:54:08+05:30', 'source': '../data/Passport1.pdf', 'total_pages': 4, 'page': 1, 'page_label': '2'}, page_content='5.5 Immediately after the acknowledgment of your ap plication, you will receive an SMS. You are \\nrequested NOT to report to the relevant Service Fac ilitating Center to submit fingerprints until you \\nreceive the SMS. \\n5.6 You shall be ready to furnish the following doc uments to the sub office of the Department for \\nRegistration of Persons at Divisional Secretariat.   \\n  5.6.1. Message of appointment for providing finge rprints (Mandatory)'),\n",
       " Document(metadata={'producer': 'FREE PDFill PDF and Image Writer', 'creator': 'PScript5.dll Version 5.2.2', 'creationdate': '2024-01-31T19:54:07+05:30', 'title': 'Microsoft Word - Instructions for Online TD - Local Applicants -english.doc', 'author': 'ewis', 'moddate': '2024-01-31T19:54:08+05:30', 'source': '../data/Passport1.pdf', 'total_pages': 4, 'page': 2, 'page_label': '3'}, page_content='5.6.2. Certificate of Birth (Mandatory) \\n5.6.3 National Identity Card (Mandatory) \\n5.6.4 The existing Passport (If any) \\n \\n6.  Conditions to Apply \\n6.1 You must be a citizen of Sri Lanka and reside in th e country at the time of applying in order to apply  \\nfor a Sri Lankan passport. \\n6.2 You should possess a valid mobile number to register for the passport application process and a valid \\nemail address is required to apply for a passport. \\n6.3 If you are applying for a passport for the first ti me you should produce originals of the following \\ndocuments \\n6.3.1 Certificate of Birth  \\n6.3.2 National Identity Card \\n6.4 If you already possess a valid Sri Lankan passport, you should have that passport with you when you \\nare reporting to the Head office, Regional office or DS-DRP units for finger print capturing.  \\n6.5 In case, if you have lost your valid passport, it is a mandatory requirement to report to the Head office'),\n",
       " Document(metadata={'producer': 'FREE PDFill PDF and Image Writer', 'creator': 'PScript5.dll Version 5.2.2', 'creationdate': '2024-01-31T19:54:07+05:30', 'title': 'Microsoft Word - Instructions for Online TD - Local Applicants -english.doc', 'author': 'ewis', 'moddate': '2024-01-31T19:54:08+05:30', 'source': '../data/Passport1.pdf', 'total_pages': 4, 'page': 2, 'page_label': '3'}, page_content='/ Regional office of the Department of Immigration and Emigration to process your new passport \\napplication. \\n6.6 Applicants over 60 years of age have to visit the selected DS office to place their signatures. \\n6.7 If you are in between the age of 16 to 60, you are required to visit the Head office / selected Regional \\noffice or DS-DRP in order to capture the photograph and provide your signature and finger prints. \\n \\n7. Payments \\n6.8 Fee for the Urgent service is 15,000 LKR and Normal service is 10,000 LKR. \\n6.9 If you intend to obtain the passport photograph at DS-DRP units, the applicable fee for the same is 350 \\nLKR. \\n6.10  If you want to make online payments, you should possess a valid credit/debit card or else you have \\nthe option to choose the ‘Pay at bank’. \\n6.11  If you select the option ‘Pay at Bank’, first you have to download the receipt and get a printout. Please \\nproduce the printed receipt when you visit the selected Bank of Ceylon (BOC) branch to make the \\npayment.'),\n",
       " Document(metadata={'producer': 'FREE PDFill PDF and Image Writer', 'creator': 'PScript5.dll Version 5.2.2', 'creationdate': '2024-01-31T19:54:07+05:30', 'title': 'Microsoft Word - Instructions for Online TD - Local Applicants -english.doc', 'author': 'ewis', 'moddate': '2024-01-31T19:54:08+05:30', 'source': '../data/Passport1.pdf', 'total_pages': 4, 'page': 3, 'page_label': '4'}, page_content='8. The list of nominated Divisional Secretariat offices with sub offices of Department of Registration of Persons \\n(DS-DRP)  \\n \\nDistrict Divisional Secretariats \\nAmpara  Samanthurai, Pothuvil \\nAnuradhapura Nuwaragam Palatha Central, Kekirawa, Horowpathana \\nBadulla  Mahiyanganaya, Haputale \\nBatticaloa  Koraleipattu (Valachchenai), Kattankudy  \\nColombo  Seethawaka, Homagama \\nGalle  Karandeniya, Akmeemana, Neluwa \\nGampaha  Negombo, Mirigama, Gampaha \\nHambantota  Tangalle, Tissamaharama \\nJaffna  Chavakachcheri, Point Pedro \\nKalutara  Ingiriya, Mathugama, Panadura \\nKandy  Gampola, Kundasale, Pujapitiya \\nKegalle  Galigamuwa, Ruwanwella \\nKilinochchi  Karachchi \\nKurunegala  DRP, North Western Province Regional Of fice, Kuliyapitiya East, \\nNikaweratiya \\nMannar  Manthai West \\nMatale  Nawula \\nMatara  Athuraliya, Devinuwara \\nMonaragala  Buttala \\nMullaitivu Mullaitivu \\nNuwara Eliya  Ambagamuwa, Walapane \\nPolonnaruwa  Elahera, Dimbulagala, Hingurakgoda \\nPuttalam  Puttalam, Chilaw'),\n",
       " Document(metadata={'producer': 'FREE PDFill PDF and Image Writer', 'creator': 'PScript5.dll Version 5.2.2', 'creationdate': '2024-01-31T19:54:07+05:30', 'title': 'Microsoft Word - Instructions for Online TD - Local Applicants -english.doc', 'author': 'ewis', 'moddate': '2024-01-31T19:54:08+05:30', 'source': '../data/Passport1.pdf', 'total_pages': 4, 'page': 3, 'page_label': '4'}, page_content='Polonnaruwa  Elahera, Dimbulagala, Hingurakgoda \\nPuttalam  Puttalam, Chilaw \\nRatnapura  Balangoda, Kuruwita, Embilipitiya \\nTrincomalee  Kinniya \\nVavuniya  Vengalacheddikulam')]"
      ]
     },
     "execution_count": 38,
     "metadata": {},
     "output_type": "execute_result"
    }
   ],
   "source": [
    "chunks = split_text(documents)\n",
    "chunks"
   ]
  },
  {
   "cell_type": "code",
   "execution_count": 39,
   "id": "f43a556f",
   "metadata": {},
   "outputs": [
    {
     "data": {
      "text/plain": [
       "list"
      ]
     },
     "execution_count": 39,
     "metadata": {},
     "output_type": "execute_result"
    }
   ],
   "source": [
    "type(chunks)"
   ]
  },
  {
   "cell_type": "code",
   "execution_count": 40,
   "id": "2c4256b3",
   "metadata": {},
   "outputs": [
    {
     "name": "stdout",
     "output_type": "stream",
     "text": [
      "Department of Immigration and Emigration \n",
      "Online Submission of Travel Document Applications –  Local Applicants \n",
      "  \n",
      " \n",
      "Instructions to Online Apply for a Passport \n",
      "(Please read the instructions carefully) \n",
      " \n",
      "1.  How to apply? \n",
      "1.1. You can apply for either urgent service or normal service.  \n",
      "1.2. If you select the urgent service, your travel docum ent will be issued after three days of capturing \n",
      "your fingerprints. \n",
      "1.3. If you select the normal service, your travel docum ent will be issued after thirty days of capturing \n",
      "your fingerprints. \n",
      " \n",
      "2.  Eligibility \n",
      "2.1 The eligibility criteria in order to avail this service are as follows: \n",
      "2.1.1  Your age shall be 16 years or above as at th e date of submitting your application. \n",
      "2.1.2  You shall possess your valid passport, if an y.  \n",
      "2.1.3  Your NIC /Passport/Full Name shall not be bl acklisted. \n",
      "2.1.4  You shall not have a travel ban imposed by t he Courts of Law.\n",
      "----------------------------------------------\n",
      "2.1.4  You shall not have a travel ban imposed by t he Courts of Law. \n",
      "2.1.5 You shall not have a travel ban imposed by th e Tri-forces or any other government \n",
      "enforcement authority. \n",
      "2.1.6 This online methodology of applying for passp orts cannot be used for applying for Official \n",
      "and Diplomatic Passports. \n",
      "2.1.7 Your NIC number should not be completely chan ged upon renewal / reissuance of NIC. \n",
      "2.2  If you do not comply with the criteria in 2.1 above, you will not be permitted to apply online. S uch \n",
      "an instance, please visit the Head office or a Regi onal office of the Department to apply for your \n",
      "Passport. \n",
      "3.  Documents Required \n",
      "3.1 The documents to be scanned and uploaded for obtaining a passport are as follows. \n",
      "3.1.1. National Identity Card (NIC)  \n",
      "3.1.2. Certificate of Birth  \n",
      "3.1.3  Certificate issued under Section 5(2) of the  Citizenship Act. No. 18 of 1948 (if applicable)\n",
      "----------------------------------------------\n",
      "3.14  Certificate issued under Section 11 of the Ci tizenship Act. No. 18 of 1948 (if applicable) \n",
      "3.1.5  Certificate of Dual Citizenship (if applicab le) \n",
      "3.1.6  The letter from the employer (if applicable)  \n",
      "3.1.7  Certificate of Marriage (if applicable)\n",
      "----------------------------------------------\n",
      "4.  General Instructions   \n",
      "4.1 Please log on to the following URL to apply online. \n",
      "https://www.immigration.gov.lk/  \n",
      "4.2 The application must be completed in English. \n",
      "4.3 The applicants who have applied under “Urgent servi ce” will be facilitated to receive passports by \n",
      "courier service and under the “Normal service” to r eceive passports by registered post.  \n",
      "4.4 The courier charges/postal charges will be borne by the Department.  \n",
      "4.5 If you have already obtained a photograph, please e nter the acknowledgement number of the \n",
      "photograph. \n",
      "4.6 All documents required to be uploaded shall be in J PEG format and size of file has to be less than 5 \n",
      "MB. \n",
      "5. Instructions on Service Facilitating Centers \n",
      "5.1 You are requested to select one of the following Service Facilitating Centers.  \n",
      "  5.1.1  Head office of the Department  \n",
      "  5.1.2 Regional offices of the Department \n",
      " 5.1.3 Sub offices of the Department for Registrati on of Persons established at nominated\n",
      "----------------------------------------------\n",
      "5.1.3 Sub offices of the Department for Registrati on of Persons established at nominated \n",
      "Divisional Secretariats (DS –DRP). (Please refer to  No. 8 below for the nominated \n",
      "DS-DRP list.) \n",
      "   5.2 You will be facilitated the following servic es at the selected Service Facilitating Centers. \n",
      "  5.2.1 Capturing the finger print of the applicant  (Mandatory requirement) \n",
      "  5.2.2 Capturing the signature of the applicant (M andatory requirement) \n",
      "  5.2.3 Capturing the Biometric enabled photograph of the applicant (Optional) \n",
      "5.3 Your device will receive a “notification of ass igning the time for online passport” at the event o f \n",
      "submitting the application and the mobile phone reg istered will receive the reference No. of the \n",
      "application through an SMS. \n",
      "5.4 When the payment is made successfully, it will be informed through an SMS. \n",
      "5.5 Immediately after the acknowledgment of your ap plication, you will receive an SMS. You are\n",
      "----------------------------------------------\n",
      "5.5 Immediately after the acknowledgment of your ap plication, you will receive an SMS. You are \n",
      "requested NOT to report to the relevant Service Fac ilitating Center to submit fingerprints until you \n",
      "receive the SMS. \n",
      "5.6 You shall be ready to furnish the following doc uments to the sub office of the Department for \n",
      "Registration of Persons at Divisional Secretariat.   \n",
      "  5.6.1. Message of appointment for providing finge rprints (Mandatory)\n",
      "----------------------------------------------\n",
      "5.6.2. Certificate of Birth (Mandatory) \n",
      "5.6.3 National Identity Card (Mandatory) \n",
      "5.6.4 The existing Passport (If any) \n",
      " \n",
      "6.  Conditions to Apply \n",
      "6.1 You must be a citizen of Sri Lanka and reside in th e country at the time of applying in order to apply  \n",
      "for a Sri Lankan passport. \n",
      "6.2 You should possess a valid mobile number to register for the passport application process and a valid \n",
      "email address is required to apply for a passport. \n",
      "6.3 If you are applying for a passport for the first ti me you should produce originals of the following \n",
      "documents \n",
      "6.3.1 Certificate of Birth  \n",
      "6.3.2 National Identity Card \n",
      "6.4 If you already possess a valid Sri Lankan passport, you should have that passport with you when you \n",
      "are reporting to the Head office, Regional office or DS-DRP units for finger print capturing.  \n",
      "6.5 In case, if you have lost your valid passport, it is a mandatory requirement to report to the Head office\n",
      "----------------------------------------------\n",
      "/ Regional office of the Department of Immigration and Emigration to process your new passport \n",
      "application. \n",
      "6.6 Applicants over 60 years of age have to visit the selected DS office to place their signatures. \n",
      "6.7 If you are in between the age of 16 to 60, you are required to visit the Head office / selected Regional \n",
      "office or DS-DRP in order to capture the photograph and provide your signature and finger prints. \n",
      " \n",
      "7. Payments \n",
      "6.8 Fee for the Urgent service is 15,000 LKR and Normal service is 10,000 LKR. \n",
      "6.9 If you intend to obtain the passport photograph at DS-DRP units, the applicable fee for the same is 350 \n",
      "LKR. \n",
      "6.10  If you want to make online payments, you should possess a valid credit/debit card or else you have \n",
      "the option to choose the ‘Pay at bank’. \n",
      "6.11  If you select the option ‘Pay at Bank’, first you have to download the receipt and get a printout. Please \n",
      "produce the printed receipt when you visit the selected Bank of Ceylon (BOC) branch to make the \n",
      "payment.\n",
      "----------------------------------------------\n",
      "8. The list of nominated Divisional Secretariat offices with sub offices of Department of Registration of Persons \n",
      "(DS-DRP)  \n",
      " \n",
      "District Divisional Secretariats \n",
      "Ampara  Samanthurai, Pothuvil \n",
      "Anuradhapura Nuwaragam Palatha Central, Kekirawa, Horowpathana \n",
      "Badulla  Mahiyanganaya, Haputale \n",
      "Batticaloa  Koraleipattu (Valachchenai), Kattankudy  \n",
      "Colombo  Seethawaka, Homagama \n",
      "Galle  Karandeniya, Akmeemana, Neluwa \n",
      "Gampaha  Negombo, Mirigama, Gampaha \n",
      "Hambantota  Tangalle, Tissamaharama \n",
      "Jaffna  Chavakachcheri, Point Pedro \n",
      "Kalutara  Ingiriya, Mathugama, Panadura \n",
      "Kandy  Gampola, Kundasale, Pujapitiya \n",
      "Kegalle  Galigamuwa, Ruwanwella \n",
      "Kilinochchi  Karachchi \n",
      "Kurunegala  DRP, North Western Province Regional Of fice, Kuliyapitiya East, \n",
      "Nikaweratiya \n",
      "Mannar  Manthai West \n",
      "Matale  Nawula \n",
      "Matara  Athuraliya, Devinuwara \n",
      "Monaragala  Buttala \n",
      "Mullaitivu Mullaitivu \n",
      "Nuwara Eliya  Ambagamuwa, Walapane \n",
      "Polonnaruwa  Elahera, Dimbulagala, Hingurakgoda \n",
      "Puttalam  Puttalam, Chilaw\n",
      "----------------------------------------------\n",
      "Polonnaruwa  Elahera, Dimbulagala, Hingurakgoda \n",
      "Puttalam  Puttalam, Chilaw \n",
      "Ratnapura  Balangoda, Kuruwita, Embilipitiya \n",
      "Trincomalee  Kinniya \n",
      "Vavuniya  Vengalacheddikulam\n",
      "----------------------------------------------\n"
     ]
    }
   ],
   "source": [
    "for i in chunks:\n",
    "    print(i.page_content)\n",
    "    print(\"----------------------------------------------\")"
   ]
  },
  {
   "cell_type": "code",
   "execution_count": 41,
   "id": "44e62c89",
   "metadata": {},
   "outputs": [
    {
     "name": "stdout",
     "output_type": "stream",
     "text": [
      "Department of Immigration and Emigration \n",
      "Online Submission of Travel Document Applications –  Local Applicants \n",
      "  \n",
      " \n",
      "Instructions to Online Apply for a Passport \n",
      "(Please read the instructions carefully) \n",
      " \n",
      "1.  How to apply? \n",
      "1.1. You can apply for either urgent service or normal service.  \n",
      "1.2. If you select the urgent service, your travel docum ent will be issued after three days of capturing \n",
      "your fingerprints. \n",
      "1.3. If you select the normal service, your travel docum ent will be issued after thirty days of capturing \n",
      "your fingerprints. \n",
      " \n",
      "2.  Eligibility \n",
      "2.1 The eligibility criteria in order to avail this service are as follows: \n",
      "2.1.1  Your age shall be 16 years or above as at th e date of submitting your application. \n",
      "2.1.2  You shall possess your valid passport, if an y.  \n",
      "2.1.3  Your NIC /Passport/Full Name shall not be bl acklisted. \n",
      "2.1.4  You shall not have a travel ban imposed by t he Courts of Law.\n"
     ]
    }
   ],
   "source": [
    "print(chunks[0].page_content)"
   ]
  },
  {
   "cell_type": "markdown",
   "id": "7093720d",
   "metadata": {},
   "source": [
    "#### Embedding the Chunks"
   ]
  },
  {
   "cell_type": "code",
   "execution_count": 42,
   "id": "a2e268a2",
   "metadata": {},
   "outputs": [],
   "source": [
    "from langchain_huggingface import HuggingFaceEmbeddings\n",
    "from langchain_core.documents import Document\n",
    "from typing import List\n",
    "\n",
    "def embed_documents(documents: List[Document], model_name: str = \"all-MiniLM-L6-v2\"):\n",
    "    \"\"\"\n",
    "    Embed the list of documents using a pre-trained HuggingFace model.\n",
    "\n",
    "    Args:\n",
    "        documents (List[Document]): The documents to embed.\n",
    "        model_name (str): The Hugging Face embedding model to use (default: \"all-MiniLM-L6-v2\").\n",
    "\n",
    "    Returns:\n",
    "        List[List[float]]: A list of embeddings (vector representation of the documents).\n",
    "    \"\"\"\n",
    "    # Initialize embedding model\n",
    "    embedding_model = HuggingFaceEmbeddings(model_name=model_name)\n",
    "    \n",
    "    # Embed the documents\n",
    "    embeddings = embedding_model.embed_documents([doc.page_content for doc in documents])\n",
    "\n",
    "    return embeddings\n"
   ]
  },
  {
   "cell_type": "code",
   "execution_count": 43,
   "id": "e4120e11",
   "metadata": {},
   "outputs": [
    {
     "name": "stderr",
     "output_type": "stream",
     "text": [
      "HTTP Error 429 thrown while requesting HEAD https://huggingface.co/sentence-transformers/all-MiniLM-L6-v2/resolve/main/./modules.json\n",
      "Retrying in 1s [Retry 1/5].\n",
      "HTTP Error 429 thrown while requesting HEAD https://huggingface.co/sentence-transformers/all-MiniLM-L6-v2/resolve/main/./modules.json\n",
      "Retrying in 2s [Retry 2/5].\n",
      "HTTP Error 429 thrown while requesting HEAD https://huggingface.co/sentence-transformers/all-MiniLM-L6-v2/resolve/main/./modules.json\n",
      "Retrying in 4s [Retry 3/5].\n",
      "HTTP Error 429 thrown while requesting HEAD https://huggingface.co/sentence-transformers/all-MiniLM-L6-v2/resolve/main/./modules.json\n",
      "Retrying in 8s [Retry 4/5].\n",
      "HTTP Error 429 thrown while requesting HEAD https://huggingface.co/sentence-transformers/all-MiniLM-L6-v2/resolve/main/./modules.json\n",
      "Retrying in 8s [Retry 5/5].\n",
      "HTTP Error 429 thrown while requesting HEAD https://huggingface.co/sentence-transformers/all-MiniLM-L6-v2/resolve/main/./modules.json\n",
      "HTTP Error 429 thrown while requesting HEAD https://huggingface.co/sentence-transformers/all-MiniLM-L6-v2/resolve/main/./config_sentence_transformers.json\n",
      "Retrying in 1s [Retry 1/5].\n",
      "HTTP Error 429 thrown while requesting HEAD https://huggingface.co/sentence-transformers/all-MiniLM-L6-v2/resolve/main/./config_sentence_transformers.json\n",
      "Retrying in 2s [Retry 2/5].\n",
      "HTTP Error 429 thrown while requesting HEAD https://huggingface.co/sentence-transformers/all-MiniLM-L6-v2/resolve/main/./config_sentence_transformers.json\n",
      "Retrying in 4s [Retry 3/5].\n",
      "HTTP Error 429 thrown while requesting HEAD https://huggingface.co/sentence-transformers/all-MiniLM-L6-v2/resolve/main/./config_sentence_transformers.json\n",
      "Retrying in 8s [Retry 4/5].\n",
      "HTTP Error 429 thrown while requesting HEAD https://huggingface.co/sentence-transformers/all-MiniLM-L6-v2/resolve/main/./config_sentence_transformers.json\n",
      "Retrying in 8s [Retry 5/5].\n",
      "HTTP Error 429 thrown while requesting HEAD https://huggingface.co/sentence-transformers/all-MiniLM-L6-v2/resolve/main/./config_sentence_transformers.json\n",
      "HTTP Error 429 thrown while requesting HEAD https://huggingface.co/sentence-transformers/all-MiniLM-L6-v2/resolve/main/./config_sentence_transformers.json\n",
      "Retrying in 1s [Retry 1/5].\n",
      "HTTP Error 429 thrown while requesting HEAD https://huggingface.co/sentence-transformers/all-MiniLM-L6-v2/resolve/main/./config_sentence_transformers.json\n",
      "Retrying in 2s [Retry 2/5].\n",
      "HTTP Error 429 thrown while requesting HEAD https://huggingface.co/sentence-transformers/all-MiniLM-L6-v2/resolve/main/./config_sentence_transformers.json\n",
      "Retrying in 4s [Retry 3/5].\n",
      "HTTP Error 429 thrown while requesting HEAD https://huggingface.co/sentence-transformers/all-MiniLM-L6-v2/resolve/main/./config_sentence_transformers.json\n",
      "Retrying in 8s [Retry 4/5].\n",
      "HTTP Error 429 thrown while requesting HEAD https://huggingface.co/sentence-transformers/all-MiniLM-L6-v2/resolve/main/./config_sentence_transformers.json\n",
      "Retrying in 8s [Retry 5/5].\n",
      "HTTP Error 429 thrown while requesting HEAD https://huggingface.co/sentence-transformers/all-MiniLM-L6-v2/resolve/main/./config_sentence_transformers.json\n",
      "HTTP Error 429 thrown while requesting HEAD https://huggingface.co/sentence-transformers/all-MiniLM-L6-v2/resolve/main/./README.md\n",
      "Retrying in 1s [Retry 1/5].\n",
      "HTTP Error 429 thrown while requesting HEAD https://huggingface.co/sentence-transformers/all-MiniLM-L6-v2/resolve/main/./README.md\n",
      "Retrying in 2s [Retry 2/5].\n",
      "HTTP Error 429 thrown while requesting HEAD https://huggingface.co/sentence-transformers/all-MiniLM-L6-v2/resolve/main/./README.md\n",
      "Retrying in 4s [Retry 3/5].\n",
      "HTTP Error 429 thrown while requesting HEAD https://huggingface.co/sentence-transformers/all-MiniLM-L6-v2/resolve/main/./README.md\n",
      "Retrying in 8s [Retry 4/5].\n",
      "HTTP Error 429 thrown while requesting HEAD https://huggingface.co/sentence-transformers/all-MiniLM-L6-v2/resolve/main/./README.md\n",
      "Retrying in 8s [Retry 5/5].\n",
      "HTTP Error 429 thrown while requesting HEAD https://huggingface.co/sentence-transformers/all-MiniLM-L6-v2/resolve/main/./README.md\n",
      "HTTP Error 429 thrown while requesting HEAD https://huggingface.co/sentence-transformers/all-MiniLM-L6-v2/resolve/main/./modules.json\n",
      "Retrying in 1s [Retry 1/5].\n",
      "HTTP Error 429 thrown while requesting HEAD https://huggingface.co/sentence-transformers/all-MiniLM-L6-v2/resolve/main/./modules.json\n",
      "Retrying in 2s [Retry 2/5].\n",
      "HTTP Error 429 thrown while requesting HEAD https://huggingface.co/sentence-transformers/all-MiniLM-L6-v2/resolve/main/./modules.json\n",
      "Retrying in 4s [Retry 3/5].\n",
      "HTTP Error 429 thrown while requesting HEAD https://huggingface.co/sentence-transformers/all-MiniLM-L6-v2/resolve/main/./modules.json\n",
      "Retrying in 8s [Retry 4/5].\n",
      "HTTP Error 429 thrown while requesting HEAD https://huggingface.co/sentence-transformers/all-MiniLM-L6-v2/resolve/main/./modules.json\n",
      "Retrying in 8s [Retry 5/5].\n"
     ]
    },
    {
     "ename": "KeyboardInterrupt",
     "evalue": "",
     "output_type": "error",
     "traceback": [
      "\u001b[31m---------------------------------------------------------------------------\u001b[39m",
      "\u001b[31mKeyboardInterrupt\u001b[39m                         Traceback (most recent call last)",
      "\u001b[36mCell\u001b[39m\u001b[36m \u001b[39m\u001b[32mIn[43]\u001b[39m\u001b[32m, line 1\u001b[39m\n\u001b[32m----> \u001b[39m\u001b[32m1\u001b[39m embeddings = \u001b[43membed_documents\u001b[49m\u001b[43m(\u001b[49m\u001b[43mchunks\u001b[49m\u001b[43m,\u001b[49m\u001b[43m \u001b[49m\u001b[43mmodel_name\u001b[49m\u001b[43m=\u001b[49m\u001b[33;43m\"\u001b[39;49m\u001b[33;43mall-MiniLM-L6-v2\u001b[39;49m\u001b[33;43m\"\u001b[39;49m\u001b[43m)\u001b[49m\n\u001b[32m      2\u001b[39m embeddings\n",
      "\u001b[36mCell\u001b[39m\u001b[36m \u001b[39m\u001b[32mIn[42]\u001b[39m\u001b[32m, line 17\u001b[39m, in \u001b[36membed_documents\u001b[39m\u001b[34m(documents, model_name)\u001b[39m\n\u001b[32m      6\u001b[39m \u001b[38;5;250m\u001b[39m\u001b[33;03m\"\"\"\u001b[39;00m\n\u001b[32m      7\u001b[39m \u001b[33;03mEmbed the list of documents using a pre-trained HuggingFace model.\u001b[39;00m\n\u001b[32m      8\u001b[39m \n\u001b[32m   (...)\u001b[39m\u001b[32m     14\u001b[39m \u001b[33;03m    List[List[float]]: A list of embeddings (vector representation of the documents).\u001b[39;00m\n\u001b[32m     15\u001b[39m \u001b[33;03m\"\"\"\u001b[39;00m\n\u001b[32m     16\u001b[39m \u001b[38;5;66;03m# Initialize embedding model\u001b[39;00m\n\u001b[32m---> \u001b[39m\u001b[32m17\u001b[39m embedding_model = \u001b[43mHuggingFaceEmbeddings\u001b[49m\u001b[43m(\u001b[49m\u001b[43mmodel_name\u001b[49m\u001b[43m=\u001b[49m\u001b[43mmodel_name\u001b[49m\u001b[43m)\u001b[49m\n\u001b[32m     19\u001b[39m \u001b[38;5;66;03m# Embed the documents\u001b[39;00m\n\u001b[32m     20\u001b[39m embeddings = embedding_model.embed_documents([doc.page_content \u001b[38;5;28;01mfor\u001b[39;00m doc \u001b[38;5;129;01min\u001b[39;00m documents])\n",
      "\u001b[36mFile \u001b[39m\u001b[32mh:\\Anaconda\\envs\\rag-test\\Lib\\site-packages\\langchain_huggingface\\embeddings\\huggingface.py:94\u001b[39m, in \u001b[36mHuggingFaceEmbeddings.__init__\u001b[39m\u001b[34m(self, **kwargs)\u001b[39m\n\u001b[32m     91\u001b[39m \u001b[38;5;28;01melse\u001b[39;00m:\n\u001b[32m     92\u001b[39m     model_cls = sentence_transformers.SentenceTransformer\n\u001b[32m---> \u001b[39m\u001b[32m94\u001b[39m \u001b[38;5;28mself\u001b[39m._client = \u001b[43mmodel_cls\u001b[49m\u001b[43m(\u001b[49m\n\u001b[32m     95\u001b[39m \u001b[43m    \u001b[49m\u001b[38;5;28;43mself\u001b[39;49m\u001b[43m.\u001b[49m\u001b[43mmodel_name\u001b[49m\u001b[43m,\u001b[49m\u001b[43m \u001b[49m\u001b[43mcache_folder\u001b[49m\u001b[43m=\u001b[49m\u001b[38;5;28;43mself\u001b[39;49m\u001b[43m.\u001b[49m\u001b[43mcache_folder\u001b[49m\u001b[43m,\u001b[49m\u001b[43m \u001b[49m\u001b[43m*\u001b[49m\u001b[43m*\u001b[49m\u001b[38;5;28;43mself\u001b[39;49m\u001b[43m.\u001b[49m\u001b[43mmodel_kwargs\u001b[49m\n\u001b[32m     96\u001b[39m \u001b[43m\u001b[49m\u001b[43m)\u001b[49m\n",
      "\u001b[36mFile \u001b[39m\u001b[32mh:\\Anaconda\\envs\\rag-test\\Lib\\site-packages\\sentence_transformers\\SentenceTransformer.py:327\u001b[39m, in \u001b[36mSentenceTransformer.__init__\u001b[39m\u001b[34m(self, model_name_or_path, modules, device, prompts, default_prompt_name, similarity_fn_name, cache_folder, trust_remote_code, revision, local_files_only, token, use_auth_token, truncate_dim, model_kwargs, tokenizer_kwargs, config_kwargs, model_card_data, backend)\u001b[39m\n\u001b[32m    309\u001b[39m has_modules = is_sentence_transformer_model(\n\u001b[32m    310\u001b[39m     model_name_or_path,\n\u001b[32m    311\u001b[39m     token,\n\u001b[32m   (...)\u001b[39m\u001b[32m    314\u001b[39m     local_files_only=local_files_only,\n\u001b[32m    315\u001b[39m )\n\u001b[32m    316\u001b[39m \u001b[38;5;28;01mif\u001b[39;00m (\n\u001b[32m    317\u001b[39m     has_modules\n\u001b[32m    318\u001b[39m     \u001b[38;5;129;01mand\u001b[39;00m \u001b[38;5;28mself\u001b[39m._get_model_type(\n\u001b[32m   (...)\u001b[39m\u001b[32m    325\u001b[39m     == \u001b[38;5;28mself\u001b[39m._model_config[\u001b[33m\"\u001b[39m\u001b[33mmodel_type\u001b[39m\u001b[33m\"\u001b[39m]\n\u001b[32m    326\u001b[39m ):\n\u001b[32m--> \u001b[39m\u001b[32m327\u001b[39m     modules, \u001b[38;5;28mself\u001b[39m.module_kwargs = \u001b[38;5;28;43mself\u001b[39;49m\u001b[43m.\u001b[49m\u001b[43m_load_sbert_model\u001b[49m\u001b[43m(\u001b[49m\n\u001b[32m    328\u001b[39m \u001b[43m        \u001b[49m\u001b[43mmodel_name_or_path\u001b[49m\u001b[43m,\u001b[49m\n\u001b[32m    329\u001b[39m \u001b[43m        \u001b[49m\u001b[43mtoken\u001b[49m\u001b[43m=\u001b[49m\u001b[43mtoken\u001b[49m\u001b[43m,\u001b[49m\n\u001b[32m    330\u001b[39m \u001b[43m        \u001b[49m\u001b[43mcache_folder\u001b[49m\u001b[43m=\u001b[49m\u001b[43mcache_folder\u001b[49m\u001b[43m,\u001b[49m\n\u001b[32m    331\u001b[39m \u001b[43m        \u001b[49m\u001b[43mrevision\u001b[49m\u001b[43m=\u001b[49m\u001b[43mrevision\u001b[49m\u001b[43m,\u001b[49m\n\u001b[32m    332\u001b[39m \u001b[43m        \u001b[49m\u001b[43mtrust_remote_code\u001b[49m\u001b[43m=\u001b[49m\u001b[43mtrust_remote_code\u001b[49m\u001b[43m,\u001b[49m\n\u001b[32m    333\u001b[39m \u001b[43m        \u001b[49m\u001b[43mlocal_files_only\u001b[49m\u001b[43m=\u001b[49m\u001b[43mlocal_files_only\u001b[49m\u001b[43m,\u001b[49m\n\u001b[32m    334\u001b[39m \u001b[43m        \u001b[49m\u001b[43mmodel_kwargs\u001b[49m\u001b[43m=\u001b[49m\u001b[43mmodel_kwargs\u001b[49m\u001b[43m,\u001b[49m\n\u001b[32m    335\u001b[39m \u001b[43m        \u001b[49m\u001b[43mtokenizer_kwargs\u001b[49m\u001b[43m=\u001b[49m\u001b[43mtokenizer_kwargs\u001b[49m\u001b[43m,\u001b[49m\n\u001b[32m    336\u001b[39m \u001b[43m        \u001b[49m\u001b[43mconfig_kwargs\u001b[49m\u001b[43m=\u001b[49m\u001b[43mconfig_kwargs\u001b[49m\u001b[43m,\u001b[49m\n\u001b[32m    337\u001b[39m \u001b[43m    \u001b[49m\u001b[43m)\u001b[49m\n\u001b[32m    338\u001b[39m \u001b[38;5;28;01melse\u001b[39;00m:\n\u001b[32m    339\u001b[39m     modules = \u001b[38;5;28mself\u001b[39m._load_auto_model(\n\u001b[32m    340\u001b[39m         model_name_or_path,\n\u001b[32m    341\u001b[39m         token=token,\n\u001b[32m   (...)\u001b[39m\u001b[32m    349\u001b[39m         has_modules=has_modules,\n\u001b[32m    350\u001b[39m     )\n",
      "\u001b[36mFile \u001b[39m\u001b[32mh:\\Anaconda\\envs\\rag-test\\Lib\\site-packages\\sentence_transformers\\SentenceTransformer.py:2185\u001b[39m, in \u001b[36mSentenceTransformer._load_sbert_model\u001b[39m\u001b[34m(self, model_name_or_path, token, cache_folder, revision, trust_remote_code, local_files_only, model_kwargs, tokenizer_kwargs, config_kwargs)\u001b[39m\n\u001b[32m   2182\u001b[39m         \u001b[38;5;28;01mpass\u001b[39;00m\n\u001b[32m   2184\u001b[39m \u001b[38;5;66;03m# Load the modules of sentence transformer\u001b[39;00m\n\u001b[32m-> \u001b[39m\u001b[32m2185\u001b[39m modules_json_path = \u001b[43mload_file_path\u001b[49m\u001b[43m(\u001b[49m\n\u001b[32m   2186\u001b[39m \u001b[43m    \u001b[49m\u001b[43mmodel_name_or_path\u001b[49m\u001b[43m,\u001b[49m\n\u001b[32m   2187\u001b[39m \u001b[43m    \u001b[49m\u001b[33;43m\"\u001b[39;49m\u001b[33;43mmodules.json\u001b[39;49m\u001b[33;43m\"\u001b[39;49m\u001b[43m,\u001b[49m\n\u001b[32m   2188\u001b[39m \u001b[43m    \u001b[49m\u001b[43mtoken\u001b[49m\u001b[43m=\u001b[49m\u001b[43mtoken\u001b[49m\u001b[43m,\u001b[49m\n\u001b[32m   2189\u001b[39m \u001b[43m    \u001b[49m\u001b[43mcache_folder\u001b[49m\u001b[43m=\u001b[49m\u001b[43mcache_folder\u001b[49m\u001b[43m,\u001b[49m\n\u001b[32m   2190\u001b[39m \u001b[43m    \u001b[49m\u001b[43mrevision\u001b[49m\u001b[43m=\u001b[49m\u001b[43mrevision\u001b[49m\u001b[43m,\u001b[49m\n\u001b[32m   2191\u001b[39m \u001b[43m    \u001b[49m\u001b[43mlocal_files_only\u001b[49m\u001b[43m=\u001b[49m\u001b[43mlocal_files_only\u001b[49m\u001b[43m,\u001b[49m\n\u001b[32m   2192\u001b[39m \u001b[43m\u001b[49m\u001b[43m)\u001b[49m\n\u001b[32m   2193\u001b[39m \u001b[38;5;28;01mwith\u001b[39;00m \u001b[38;5;28mopen\u001b[39m(modules_json_path, encoding=\u001b[33m\"\u001b[39m\u001b[33mutf8\u001b[39m\u001b[33m\"\u001b[39m) \u001b[38;5;28;01mas\u001b[39;00m fIn:\n\u001b[32m   2194\u001b[39m     modules_config = json.load(fIn)\n",
      "\u001b[36mFile \u001b[39m\u001b[32mh:\\Anaconda\\envs\\rag-test\\Lib\\site-packages\\sentence_transformers\\util.py:1723\u001b[39m, in \u001b[36mload_file_path\u001b[39m\u001b[34m(model_name_or_path, filename, subfolder, token, cache_folder, revision, local_files_only)\u001b[39m\n\u001b[32m   1721\u001b[39m file_path = Path(subfolder, filename)\n\u001b[32m   1722\u001b[39m \u001b[38;5;28;01mtry\u001b[39;00m:\n\u001b[32m-> \u001b[39m\u001b[32m1723\u001b[39m     \u001b[38;5;28;01mreturn\u001b[39;00m \u001b[43mhf_hub_download\u001b[49m\u001b[43m(\u001b[49m\n\u001b[32m   1724\u001b[39m \u001b[43m        \u001b[49m\u001b[43mmodel_name_or_path\u001b[49m\u001b[43m,\u001b[49m\n\u001b[32m   1725\u001b[39m \u001b[43m        \u001b[49m\u001b[43mfilename\u001b[49m\u001b[43m=\u001b[49m\u001b[43mfile_path\u001b[49m\u001b[43m.\u001b[49m\u001b[43mname\u001b[49m\u001b[43m,\u001b[49m\n\u001b[32m   1726\u001b[39m \u001b[43m        \u001b[49m\u001b[43msubfolder\u001b[49m\u001b[43m=\u001b[49m\u001b[43mfile_path\u001b[49m\u001b[43m.\u001b[49m\u001b[43mparent\u001b[49m\u001b[43m.\u001b[49m\u001b[43mas_posix\u001b[49m\u001b[43m(\u001b[49m\u001b[43m)\u001b[49m\u001b[43m,\u001b[49m\n\u001b[32m   1727\u001b[39m \u001b[43m        \u001b[49m\u001b[43mrevision\u001b[49m\u001b[43m=\u001b[49m\u001b[43mrevision\u001b[49m\u001b[43m,\u001b[49m\n\u001b[32m   1728\u001b[39m \u001b[43m        \u001b[49m\u001b[43mlibrary_name\u001b[49m\u001b[43m=\u001b[49m\u001b[33;43m\"\u001b[39;49m\u001b[33;43msentence-transformers\u001b[39;49m\u001b[33;43m\"\u001b[39;49m\u001b[43m,\u001b[49m\n\u001b[32m   1729\u001b[39m \u001b[43m        \u001b[49m\u001b[43mtoken\u001b[49m\u001b[43m=\u001b[49m\u001b[43mtoken\u001b[49m\u001b[43m,\u001b[49m\n\u001b[32m   1730\u001b[39m \u001b[43m        \u001b[49m\u001b[43mcache_dir\u001b[49m\u001b[43m=\u001b[49m\u001b[43mcache_folder\u001b[49m\u001b[43m,\u001b[49m\n\u001b[32m   1731\u001b[39m \u001b[43m        \u001b[49m\u001b[43mlocal_files_only\u001b[49m\u001b[43m=\u001b[49m\u001b[43mlocal_files_only\u001b[49m\u001b[43m,\u001b[49m\n\u001b[32m   1732\u001b[39m \u001b[43m    \u001b[49m\u001b[43m)\u001b[49m\n\u001b[32m   1733\u001b[39m \u001b[38;5;28;01mexcept\u001b[39;00m \u001b[38;5;167;01mException\u001b[39;00m:\n\u001b[32m   1734\u001b[39m     \u001b[38;5;28;01mreturn\u001b[39;00m \u001b[38;5;28;01mNone\u001b[39;00m\n",
      "\u001b[36mFile \u001b[39m\u001b[32mh:\\Anaconda\\envs\\rag-test\\Lib\\site-packages\\huggingface_hub\\utils\\_validators.py:114\u001b[39m, in \u001b[36mvalidate_hf_hub_args.<locals>._inner_fn\u001b[39m\u001b[34m(*args, **kwargs)\u001b[39m\n\u001b[32m    111\u001b[39m \u001b[38;5;28;01mif\u001b[39;00m check_use_auth_token:\n\u001b[32m    112\u001b[39m     kwargs = smoothly_deprecate_use_auth_token(fn_name=fn.\u001b[34m__name__\u001b[39m, has_token=has_token, kwargs=kwargs)\n\u001b[32m--> \u001b[39m\u001b[32m114\u001b[39m \u001b[38;5;28;01mreturn\u001b[39;00m \u001b[43mfn\u001b[49m\u001b[43m(\u001b[49m\u001b[43m*\u001b[49m\u001b[43margs\u001b[49m\u001b[43m,\u001b[49m\u001b[43m \u001b[49m\u001b[43m*\u001b[49m\u001b[43m*\u001b[49m\u001b[43mkwargs\u001b[49m\u001b[43m)\u001b[49m\n",
      "\u001b[36mFile \u001b[39m\u001b[32mh:\\Anaconda\\envs\\rag-test\\Lib\\site-packages\\huggingface_hub\\file_download.py:1008\u001b[39m, in \u001b[36mhf_hub_download\u001b[39m\u001b[34m(repo_id, filename, subfolder, repo_type, revision, library_name, library_version, cache_dir, local_dir, user_agent, force_download, proxies, etag_timeout, token, local_files_only, headers, endpoint, resume_download, force_filename, local_dir_use_symlinks)\u001b[39m\n\u001b[32m    988\u001b[39m     \u001b[38;5;28;01mreturn\u001b[39;00m _hf_hub_download_to_local_dir(\n\u001b[32m    989\u001b[39m         \u001b[38;5;66;03m# Destination\u001b[39;00m\n\u001b[32m    990\u001b[39m         local_dir=local_dir,\n\u001b[32m   (...)\u001b[39m\u001b[32m   1005\u001b[39m         local_files_only=local_files_only,\n\u001b[32m   1006\u001b[39m     )\n\u001b[32m   1007\u001b[39m \u001b[38;5;28;01melse\u001b[39;00m:\n\u001b[32m-> \u001b[39m\u001b[32m1008\u001b[39m     \u001b[38;5;28;01mreturn\u001b[39;00m \u001b[43m_hf_hub_download_to_cache_dir\u001b[49m\u001b[43m(\u001b[49m\n\u001b[32m   1009\u001b[39m \u001b[43m        \u001b[49m\u001b[38;5;66;43;03m# Destination\u001b[39;49;00m\n\u001b[32m   1010\u001b[39m \u001b[43m        \u001b[49m\u001b[43mcache_dir\u001b[49m\u001b[43m=\u001b[49m\u001b[43mcache_dir\u001b[49m\u001b[43m,\u001b[49m\n\u001b[32m   1011\u001b[39m \u001b[43m        \u001b[49m\u001b[38;5;66;43;03m# File info\u001b[39;49;00m\n\u001b[32m   1012\u001b[39m \u001b[43m        \u001b[49m\u001b[43mrepo_id\u001b[49m\u001b[43m=\u001b[49m\u001b[43mrepo_id\u001b[49m\u001b[43m,\u001b[49m\n\u001b[32m   1013\u001b[39m \u001b[43m        \u001b[49m\u001b[43mfilename\u001b[49m\u001b[43m=\u001b[49m\u001b[43mfilename\u001b[49m\u001b[43m,\u001b[49m\n\u001b[32m   1014\u001b[39m \u001b[43m        \u001b[49m\u001b[43mrepo_type\u001b[49m\u001b[43m=\u001b[49m\u001b[43mrepo_type\u001b[49m\u001b[43m,\u001b[49m\n\u001b[32m   1015\u001b[39m \u001b[43m        \u001b[49m\u001b[43mrevision\u001b[49m\u001b[43m=\u001b[49m\u001b[43mrevision\u001b[49m\u001b[43m,\u001b[49m\n\u001b[32m   1016\u001b[39m \u001b[43m        \u001b[49m\u001b[38;5;66;43;03m# HTTP info\u001b[39;49;00m\n\u001b[32m   1017\u001b[39m \u001b[43m        \u001b[49m\u001b[43mendpoint\u001b[49m\u001b[43m=\u001b[49m\u001b[43mendpoint\u001b[49m\u001b[43m,\u001b[49m\n\u001b[32m   1018\u001b[39m \u001b[43m        \u001b[49m\u001b[43metag_timeout\u001b[49m\u001b[43m=\u001b[49m\u001b[43metag_timeout\u001b[49m\u001b[43m,\u001b[49m\n\u001b[32m   1019\u001b[39m \u001b[43m        \u001b[49m\u001b[43mheaders\u001b[49m\u001b[43m=\u001b[49m\u001b[43mhf_headers\u001b[49m\u001b[43m,\u001b[49m\n\u001b[32m   1020\u001b[39m \u001b[43m        \u001b[49m\u001b[43mproxies\u001b[49m\u001b[43m=\u001b[49m\u001b[43mproxies\u001b[49m\u001b[43m,\u001b[49m\n\u001b[32m   1021\u001b[39m \u001b[43m        \u001b[49m\u001b[43mtoken\u001b[49m\u001b[43m=\u001b[49m\u001b[43mtoken\u001b[49m\u001b[43m,\u001b[49m\n\u001b[32m   1022\u001b[39m \u001b[43m        \u001b[49m\u001b[38;5;66;43;03m# Additional options\u001b[39;49;00m\n\u001b[32m   1023\u001b[39m \u001b[43m        \u001b[49m\u001b[43mlocal_files_only\u001b[49m\u001b[43m=\u001b[49m\u001b[43mlocal_files_only\u001b[49m\u001b[43m,\u001b[49m\n\u001b[32m   1024\u001b[39m \u001b[43m        \u001b[49m\u001b[43mforce_download\u001b[49m\u001b[43m=\u001b[49m\u001b[43mforce_download\u001b[49m\u001b[43m,\u001b[49m\n\u001b[32m   1025\u001b[39m \u001b[43m    \u001b[49m\u001b[43m)\u001b[49m\n",
      "\u001b[36mFile \u001b[39m\u001b[32mh:\\Anaconda\\envs\\rag-test\\Lib\\site-packages\\huggingface_hub\\file_download.py:1071\u001b[39m, in \u001b[36m_hf_hub_download_to_cache_dir\u001b[39m\u001b[34m(cache_dir, repo_id, filename, repo_type, revision, endpoint, etag_timeout, headers, proxies, token, local_files_only, force_download)\u001b[39m\n\u001b[32m   1067\u001b[39m         \u001b[38;5;28;01mreturn\u001b[39;00m pointer_path\n\u001b[32m   1069\u001b[39m \u001b[38;5;66;03m# Try to get metadata (etag, commit_hash, url, size) from the server.\u001b[39;00m\n\u001b[32m   1070\u001b[39m \u001b[38;5;66;03m# If we can't, a HEAD request error is returned.\u001b[39;00m\n\u001b[32m-> \u001b[39m\u001b[32m1071\u001b[39m (url_to_download, etag, commit_hash, expected_size, xet_file_data, head_call_error) = \u001b[43m_get_metadata_or_catch_error\u001b[49m\u001b[43m(\u001b[49m\n\u001b[32m   1072\u001b[39m \u001b[43m    \u001b[49m\u001b[43mrepo_id\u001b[49m\u001b[43m=\u001b[49m\u001b[43mrepo_id\u001b[49m\u001b[43m,\u001b[49m\n\u001b[32m   1073\u001b[39m \u001b[43m    \u001b[49m\u001b[43mfilename\u001b[49m\u001b[43m=\u001b[49m\u001b[43mfilename\u001b[49m\u001b[43m,\u001b[49m\n\u001b[32m   1074\u001b[39m \u001b[43m    \u001b[49m\u001b[43mrepo_type\u001b[49m\u001b[43m=\u001b[49m\u001b[43mrepo_type\u001b[49m\u001b[43m,\u001b[49m\n\u001b[32m   1075\u001b[39m \u001b[43m    \u001b[49m\u001b[43mrevision\u001b[49m\u001b[43m=\u001b[49m\u001b[43mrevision\u001b[49m\u001b[43m,\u001b[49m\n\u001b[32m   1076\u001b[39m \u001b[43m    \u001b[49m\u001b[43mendpoint\u001b[49m\u001b[43m=\u001b[49m\u001b[43mendpoint\u001b[49m\u001b[43m,\u001b[49m\n\u001b[32m   1077\u001b[39m \u001b[43m    \u001b[49m\u001b[43mproxies\u001b[49m\u001b[43m=\u001b[49m\u001b[43mproxies\u001b[49m\u001b[43m,\u001b[49m\n\u001b[32m   1078\u001b[39m \u001b[43m    \u001b[49m\u001b[43metag_timeout\u001b[49m\u001b[43m=\u001b[49m\u001b[43metag_timeout\u001b[49m\u001b[43m,\u001b[49m\n\u001b[32m   1079\u001b[39m \u001b[43m    \u001b[49m\u001b[43mheaders\u001b[49m\u001b[43m=\u001b[49m\u001b[43mheaders\u001b[49m\u001b[43m,\u001b[49m\n\u001b[32m   1080\u001b[39m \u001b[43m    \u001b[49m\u001b[43mtoken\u001b[49m\u001b[43m=\u001b[49m\u001b[43mtoken\u001b[49m\u001b[43m,\u001b[49m\n\u001b[32m   1081\u001b[39m \u001b[43m    \u001b[49m\u001b[43mlocal_files_only\u001b[49m\u001b[43m=\u001b[49m\u001b[43mlocal_files_only\u001b[49m\u001b[43m,\u001b[49m\n\u001b[32m   1082\u001b[39m \u001b[43m    \u001b[49m\u001b[43mstorage_folder\u001b[49m\u001b[43m=\u001b[49m\u001b[43mstorage_folder\u001b[49m\u001b[43m,\u001b[49m\n\u001b[32m   1083\u001b[39m \u001b[43m    \u001b[49m\u001b[43mrelative_filename\u001b[49m\u001b[43m=\u001b[49m\u001b[43mrelative_filename\u001b[49m\u001b[43m,\u001b[49m\n\u001b[32m   1084\u001b[39m \u001b[43m\u001b[49m\u001b[43m)\u001b[49m\n\u001b[32m   1086\u001b[39m \u001b[38;5;66;03m# etag can be None for several reasons:\u001b[39;00m\n\u001b[32m   1087\u001b[39m \u001b[38;5;66;03m# 1. we passed local_files_only.\u001b[39;00m\n\u001b[32m   1088\u001b[39m \u001b[38;5;66;03m# 2. we don't have a connection\u001b[39;00m\n\u001b[32m   (...)\u001b[39m\u001b[32m   1094\u001b[39m \u001b[38;5;66;03m# If the specified revision is a commit hash, look inside \"snapshots\".\u001b[39;00m\n\u001b[32m   1095\u001b[39m \u001b[38;5;66;03m# If the specified revision is a branch or tag, look inside \"refs\".\u001b[39;00m\n\u001b[32m   1096\u001b[39m \u001b[38;5;28;01mif\u001b[39;00m head_call_error \u001b[38;5;129;01mis\u001b[39;00m \u001b[38;5;129;01mnot\u001b[39;00m \u001b[38;5;28;01mNone\u001b[39;00m:\n\u001b[32m   1097\u001b[39m     \u001b[38;5;66;03m# Couldn't make a HEAD call => let's try to find a local file\u001b[39;00m\n",
      "\u001b[36mFile \u001b[39m\u001b[32mh:\\Anaconda\\envs\\rag-test\\Lib\\site-packages\\huggingface_hub\\file_download.py:1533\u001b[39m, in \u001b[36m_get_metadata_or_catch_error\u001b[39m\u001b[34m(repo_id, filename, repo_type, revision, endpoint, proxies, etag_timeout, headers, token, local_files_only, relative_filename, storage_folder)\u001b[39m\n\u001b[32m   1531\u001b[39m \u001b[38;5;28;01mtry\u001b[39;00m:\n\u001b[32m   1532\u001b[39m     \u001b[38;5;28;01mtry\u001b[39;00m:\n\u001b[32m-> \u001b[39m\u001b[32m1533\u001b[39m         metadata = \u001b[43mget_hf_file_metadata\u001b[49m\u001b[43m(\u001b[49m\n\u001b[32m   1534\u001b[39m \u001b[43m            \u001b[49m\u001b[43murl\u001b[49m\u001b[43m=\u001b[49m\u001b[43murl\u001b[49m\u001b[43m,\u001b[49m\u001b[43m \u001b[49m\u001b[43mproxies\u001b[49m\u001b[43m=\u001b[49m\u001b[43mproxies\u001b[49m\u001b[43m,\u001b[49m\u001b[43m \u001b[49m\u001b[43mtimeout\u001b[49m\u001b[43m=\u001b[49m\u001b[43metag_timeout\u001b[49m\u001b[43m,\u001b[49m\u001b[43m \u001b[49m\u001b[43mheaders\u001b[49m\u001b[43m=\u001b[49m\u001b[43mheaders\u001b[49m\u001b[43m,\u001b[49m\u001b[43m \u001b[49m\u001b[43mtoken\u001b[49m\u001b[43m=\u001b[49m\u001b[43mtoken\u001b[49m\n\u001b[32m   1535\u001b[39m \u001b[43m        \u001b[49m\u001b[43m)\u001b[49m\n\u001b[32m   1536\u001b[39m     \u001b[38;5;28;01mexcept\u001b[39;00m EntryNotFoundError \u001b[38;5;28;01mas\u001b[39;00m http_error:\n\u001b[32m   1537\u001b[39m         \u001b[38;5;28;01mif\u001b[39;00m storage_folder \u001b[38;5;129;01mis\u001b[39;00m \u001b[38;5;129;01mnot\u001b[39;00m \u001b[38;5;28;01mNone\u001b[39;00m \u001b[38;5;129;01mand\u001b[39;00m relative_filename \u001b[38;5;129;01mis\u001b[39;00m \u001b[38;5;129;01mnot\u001b[39;00m \u001b[38;5;28;01mNone\u001b[39;00m:\n\u001b[32m   1538\u001b[39m             \u001b[38;5;66;03m# Cache the non-existence of the file\u001b[39;00m\n",
      "\u001b[36mFile \u001b[39m\u001b[32mh:\\Anaconda\\envs\\rag-test\\Lib\\site-packages\\huggingface_hub\\utils\\_validators.py:114\u001b[39m, in \u001b[36mvalidate_hf_hub_args.<locals>._inner_fn\u001b[39m\u001b[34m(*args, **kwargs)\u001b[39m\n\u001b[32m    111\u001b[39m \u001b[38;5;28;01mif\u001b[39;00m check_use_auth_token:\n\u001b[32m    112\u001b[39m     kwargs = smoothly_deprecate_use_auth_token(fn_name=fn.\u001b[34m__name__\u001b[39m, has_token=has_token, kwargs=kwargs)\n\u001b[32m--> \u001b[39m\u001b[32m114\u001b[39m \u001b[38;5;28;01mreturn\u001b[39;00m \u001b[43mfn\u001b[49m\u001b[43m(\u001b[49m\u001b[43m*\u001b[49m\u001b[43margs\u001b[49m\u001b[43m,\u001b[49m\u001b[43m \u001b[49m\u001b[43m*\u001b[49m\u001b[43m*\u001b[49m\u001b[43mkwargs\u001b[49m\u001b[43m)\u001b[49m\n",
      "\u001b[36mFile \u001b[39m\u001b[32mh:\\Anaconda\\envs\\rag-test\\Lib\\site-packages\\huggingface_hub\\file_download.py:1450\u001b[39m, in \u001b[36mget_hf_file_metadata\u001b[39m\u001b[34m(url, token, proxies, timeout, library_name, library_version, user_agent, headers)\u001b[39m\n\u001b[32m   1447\u001b[39m hf_headers[\u001b[33m\"\u001b[39m\u001b[33mAccept-Encoding\u001b[39m\u001b[33m\"\u001b[39m] = \u001b[33m\"\u001b[39m\u001b[33midentity\u001b[39m\u001b[33m\"\u001b[39m  \u001b[38;5;66;03m# prevent any compression => we want to know the real size of the file\u001b[39;00m\n\u001b[32m   1449\u001b[39m \u001b[38;5;66;03m# Retrieve metadata\u001b[39;00m\n\u001b[32m-> \u001b[39m\u001b[32m1450\u001b[39m r = \u001b[43m_request_wrapper\u001b[49m\u001b[43m(\u001b[49m\n\u001b[32m   1451\u001b[39m \u001b[43m    \u001b[49m\u001b[43mmethod\u001b[49m\u001b[43m=\u001b[49m\u001b[33;43m\"\u001b[39;49m\u001b[33;43mHEAD\u001b[39;49m\u001b[33;43m\"\u001b[39;49m\u001b[43m,\u001b[49m\n\u001b[32m   1452\u001b[39m \u001b[43m    \u001b[49m\u001b[43murl\u001b[49m\u001b[43m=\u001b[49m\u001b[43murl\u001b[49m\u001b[43m,\u001b[49m\n\u001b[32m   1453\u001b[39m \u001b[43m    \u001b[49m\u001b[43mheaders\u001b[49m\u001b[43m=\u001b[49m\u001b[43mhf_headers\u001b[49m\u001b[43m,\u001b[49m\n\u001b[32m   1454\u001b[39m \u001b[43m    \u001b[49m\u001b[43mallow_redirects\u001b[49m\u001b[43m=\u001b[49m\u001b[38;5;28;43;01mFalse\u001b[39;49;00m\u001b[43m,\u001b[49m\n\u001b[32m   1455\u001b[39m \u001b[43m    \u001b[49m\u001b[43mfollow_relative_redirects\u001b[49m\u001b[43m=\u001b[49m\u001b[38;5;28;43;01mTrue\u001b[39;49;00m\u001b[43m,\u001b[49m\n\u001b[32m   1456\u001b[39m \u001b[43m    \u001b[49m\u001b[43mproxies\u001b[49m\u001b[43m=\u001b[49m\u001b[43mproxies\u001b[49m\u001b[43m,\u001b[49m\n\u001b[32m   1457\u001b[39m \u001b[43m    \u001b[49m\u001b[43mtimeout\u001b[49m\u001b[43m=\u001b[49m\u001b[43mtimeout\u001b[49m\u001b[43m,\u001b[49m\n\u001b[32m   1458\u001b[39m \u001b[43m\u001b[49m\u001b[43m)\u001b[49m\n\u001b[32m   1459\u001b[39m hf_raise_for_status(r)\n\u001b[32m   1461\u001b[39m \u001b[38;5;66;03m# Return\u001b[39;00m\n",
      "\u001b[36mFile \u001b[39m\u001b[32mh:\\Anaconda\\envs\\rag-test\\Lib\\site-packages\\huggingface_hub\\file_download.py:286\u001b[39m, in \u001b[36m_request_wrapper\u001b[39m\u001b[34m(method, url, follow_relative_redirects, **params)\u001b[39m\n\u001b[32m    284\u001b[39m \u001b[38;5;66;03m# Recursively follow relative redirects\u001b[39;00m\n\u001b[32m    285\u001b[39m \u001b[38;5;28;01mif\u001b[39;00m follow_relative_redirects:\n\u001b[32m--> \u001b[39m\u001b[32m286\u001b[39m     response = \u001b[43m_request_wrapper\u001b[49m\u001b[43m(\u001b[49m\n\u001b[32m    287\u001b[39m \u001b[43m        \u001b[49m\u001b[43mmethod\u001b[49m\u001b[43m=\u001b[49m\u001b[43mmethod\u001b[49m\u001b[43m,\u001b[49m\n\u001b[32m    288\u001b[39m \u001b[43m        \u001b[49m\u001b[43murl\u001b[49m\u001b[43m=\u001b[49m\u001b[43murl\u001b[49m\u001b[43m,\u001b[49m\n\u001b[32m    289\u001b[39m \u001b[43m        \u001b[49m\u001b[43mfollow_relative_redirects\u001b[49m\u001b[43m=\u001b[49m\u001b[38;5;28;43;01mFalse\u001b[39;49;00m\u001b[43m,\u001b[49m\n\u001b[32m    290\u001b[39m \u001b[43m        \u001b[49m\u001b[43m*\u001b[49m\u001b[43m*\u001b[49m\u001b[43mparams\u001b[49m\u001b[43m,\u001b[49m\n\u001b[32m    291\u001b[39m \u001b[43m    \u001b[49m\u001b[43m)\u001b[49m\n\u001b[32m    293\u001b[39m     \u001b[38;5;66;03m# If redirection, we redirect only relative paths.\u001b[39;00m\n\u001b[32m    294\u001b[39m     \u001b[38;5;66;03m# This is useful in case of a renamed repository.\u001b[39;00m\n\u001b[32m    295\u001b[39m     \u001b[38;5;28;01mif\u001b[39;00m \u001b[32m300\u001b[39m <= response.status_code <= \u001b[32m399\u001b[39m:\n",
      "\u001b[36mFile \u001b[39m\u001b[32mh:\\Anaconda\\envs\\rag-test\\Lib\\site-packages\\huggingface_hub\\file_download.py:309\u001b[39m, in \u001b[36m_request_wrapper\u001b[39m\u001b[34m(method, url, follow_relative_redirects, **params)\u001b[39m\n\u001b[32m    306\u001b[39m     \u001b[38;5;28;01mreturn\u001b[39;00m response\n\u001b[32m    308\u001b[39m \u001b[38;5;66;03m# Perform request and return if status_code is not in the retry list.\u001b[39;00m\n\u001b[32m--> \u001b[39m\u001b[32m309\u001b[39m response = \u001b[43mhttp_backoff\u001b[49m\u001b[43m(\u001b[49m\u001b[43mmethod\u001b[49m\u001b[43m=\u001b[49m\u001b[43mmethod\u001b[49m\u001b[43m,\u001b[49m\u001b[43m \u001b[49m\u001b[43murl\u001b[49m\u001b[43m=\u001b[49m\u001b[43murl\u001b[49m\u001b[43m,\u001b[49m\u001b[43m \u001b[49m\u001b[43m*\u001b[49m\u001b[43m*\u001b[49m\u001b[43mparams\u001b[49m\u001b[43m,\u001b[49m\u001b[43m \u001b[49m\u001b[43mretry_on_exceptions\u001b[49m\u001b[43m=\u001b[49m\u001b[43m(\u001b[49m\u001b[43m)\u001b[49m\u001b[43m,\u001b[49m\u001b[43m \u001b[49m\u001b[43mretry_on_status_codes\u001b[49m\u001b[43m=\u001b[49m\u001b[43m(\u001b[49m\u001b[32;43m429\u001b[39;49m\u001b[43m,\u001b[49m\u001b[43m)\u001b[49m\u001b[43m)\u001b[49m\n\u001b[32m    310\u001b[39m hf_raise_for_status(response)\n\u001b[32m    311\u001b[39m \u001b[38;5;28;01mreturn\u001b[39;00m response\n",
      "\u001b[36mFile \u001b[39m\u001b[32mh:\\Anaconda\\envs\\rag-test\\Lib\\site-packages\\huggingface_hub\\utils\\_http.py:333\u001b[39m, in \u001b[36mhttp_backoff\u001b[39m\u001b[34m(method, url, max_retries, base_wait_time, max_wait_time, retry_on_exceptions, retry_on_status_codes, **kwargs)\u001b[39m\n\u001b[32m    331\u001b[39m \u001b[38;5;66;03m# Sleep for X seconds\u001b[39;00m\n\u001b[32m    332\u001b[39m logger.warning(\u001b[33mf\u001b[39m\u001b[33m\"\u001b[39m\u001b[33mRetrying in \u001b[39m\u001b[38;5;132;01m{\u001b[39;00msleep_time\u001b[38;5;132;01m}\u001b[39;00m\u001b[33ms [Retry \u001b[39m\u001b[38;5;132;01m{\u001b[39;00mnb_tries\u001b[38;5;132;01m}\u001b[39;00m\u001b[33m/\u001b[39m\u001b[38;5;132;01m{\u001b[39;00mmax_retries\u001b[38;5;132;01m}\u001b[39;00m\u001b[33m].\u001b[39m\u001b[33m\"\u001b[39m)\n\u001b[32m--> \u001b[39m\u001b[32m333\u001b[39m time.sleep(sleep_time)\n\u001b[32m    335\u001b[39m \u001b[38;5;66;03m# Update sleep time for next retry\u001b[39;00m\n\u001b[32m    336\u001b[39m sleep_time = \u001b[38;5;28mmin\u001b[39m(max_wait_time, sleep_time * \u001b[32m2\u001b[39m)\n",
      "\u001b[31mKeyboardInterrupt\u001b[39m: "
     ]
    }
   ],
   "source": [
    "embeddings = embed_documents(chunks, model_name=\"all-MiniLM-L6-v2\")\n",
    "embeddings"
   ]
  },
  {
   "cell_type": "code",
   "execution_count": null,
   "id": "713d52ac",
   "metadata": {},
   "outputs": [
    {
     "data": {
      "text/plain": [
       "list"
      ]
     },
     "execution_count": 14,
     "metadata": {},
     "output_type": "execute_result"
    }
   ],
   "source": [
    "type(embeddings)"
   ]
  },
  {
   "cell_type": "code",
   "execution_count": null,
   "id": "60369702",
   "metadata": {},
   "outputs": [
    {
     "data": {
      "text/plain": [
       "10"
      ]
     },
     "execution_count": 15,
     "metadata": {},
     "output_type": "execute_result"
    }
   ],
   "source": [
    "len(embeddings)"
   ]
  },
  {
   "cell_type": "markdown",
   "id": "da09d80d",
   "metadata": {},
   "source": [
    "####  Store embeddings in a Vector Database"
   ]
  },
  {
   "cell_type": "code",
   "execution_count": 44,
   "id": "fe23d2cd",
   "metadata": {},
   "outputs": [],
   "source": [
    "# load the text loader \n",
    "from langchain_community.document_loaders import TextLoader"
   ]
  },
  {
   "cell_type": "code",
   "execution_count": 45,
   "id": "4a4083bd",
   "metadata": {},
   "outputs": [
    {
     "data": {
      "text/plain": [
       "[Document(metadata={'source': './test_data/speech.txt'}, page_content='The world must be made safe for democracy. Its peace must be planted upon the tested foundations of political liberty. We have no selfish ends to serve. We desire no conquest, no dominion. We seek no indemnities for ourselves, no material compensation for the sacrifices we shall freely make. We are but one of the champions of the rights of mankind. We shall be satisfied when those rights have been made as secure as the faith and the freedom of nations can make them.\\n\\nJust because we fight without rancor and without selfish object, seeking nothing for ourselves but what we shall wish to share with all free peoples, we shall, I feel confident, conduct our operations as belligerents without passion and ourselves observe with proud punctilio the principles of right and of fair play we profess to be fighting for.\\n\\n…\\n\\nIt will be all the easier for us to conduct ourselves as belligerents in a high spirit of right and fairness because we act without animus, not in enmity toward a people or with the desire to bring any injury or disadvantage upon them, but only in armed opposition to an irresponsible government which has thrown aside all considerations of humanity and of right and is running amuck. We are, let me say again, the sincere friends of the German people, and shall desire nothing so much as the early reestablishment of intimate relations of mutual advantage between us—however hard it may be for them, for the time being, to believe that this is spoken from our hearts.\\n\\nWe have borne with their present government through all these bitter months because of that friendship—exercising a patience and forbearance which would otherwise have been impossible. We shall, happily, still have an opportunity to prove that friendship in our daily attitude and actions toward the millions of men and women of German birth and native sympathy who live among us and share our life, and we shall be proud to prove it toward all who are in fact loyal to their neighbors and to the government in the hour of test. They are, most of them, as true and loyal Americans as if they had never known any other fealty or allegiance. They will be prompt to stand with us in rebuking and restraining the few who may be of a different mind and purpose. If there should be disloyalty, it will be dealt with with a firm hand of stern repression; but, if it lifts its head at all, it will lift it only here and there and without countenance except from a lawless and malignant few.\\n\\nIt is a distressing and oppressive duty, gentlemen of the Congress, which I have performed in thus addressing you. There are, it may be, many months of fiery trial and sacrifice ahead of us. It is a fearful thing to lead this great peaceful people into war, into the most terrible and disastrous of all wars, civilization itself seeming to be in the balance. But the right is more precious than peace, and we shall fight for the things which we have always carried nearest our hearts—for democracy, for the right of those who submit to authority to have a voice in their own governments, for the rights and liberties of small nations, for a universal dominion of right by such a concert of free peoples as shall bring peace and safety to all nations and make the world itself at last free.\\n\\nTo such a task we can dedicate our lives and our fortunes, everything that we are and everything that we have, with the pride of those who know that the day has come when America is privileged to spend her blood and her might for the principles that gave her birth and happiness and the peace which she has treasured. God helping her, she can do no other.')]"
      ]
     },
     "execution_count": 45,
     "metadata": {},
     "output_type": "execute_result"
    }
   ],
   "source": [
    "loader = TextLoader(\"./test_data/speech.txt\")\n",
    "documents = loader.load()\n",
    "documents"
   ]
  },
  {
   "cell_type": "code",
   "execution_count": 46,
   "id": "84a7a114",
   "metadata": {},
   "outputs": [],
   "source": [
    "# split the text into smaller chunks\n",
    "from langchain_text_splitters import RecursiveCharacterTextSplitter"
   ]
  },
  {
   "cell_type": "code",
   "execution_count": 47,
   "id": "ac32de20",
   "metadata": {},
   "outputs": [
    {
     "data": {
      "text/plain": [
       "<langchain_text_splitters.character.RecursiveCharacterTextSplitter at 0x26c9a280b50>"
      ]
     },
     "execution_count": 47,
     "metadata": {},
     "output_type": "execute_result"
    }
   ],
   "source": [
    "splitter = RecursiveCharacterTextSplitter(chunk_size=500, chunk_overlap=0)\n",
    "splitter"
   ]
  },
  {
   "cell_type": "code",
   "execution_count": null,
   "id": "0ed8c54c",
   "metadata": {},
   "outputs": [
    {
     "data": {
      "text/plain": [
       "[Document(metadata={'source': './test_data/speech.txt'}, page_content='The world must be made safe for democracy. Its peace must be planted upon the tested foundations of political liberty. We have no selfish ends to serve. We desire no conquest, no dominion. We seek no indemnities for ourselves, no material compensation for the sacrifices we shall freely make. We are but one of the champions of the rights of mankind. We shall be satisfied when those rights have been made as secure as the faith and the freedom of nations can make them.'),\n",
       " Document(metadata={'source': './test_data/speech.txt'}, page_content='Just because we fight without rancor and without selfish object, seeking nothing for ourselves but what we shall wish to share with all free peoples, we shall, I feel confident, conduct our operations as belligerents without passion and ourselves observe with proud punctilio the principles of right and of fair play we profess to be fighting for.\\n\\n…'),\n",
       " Document(metadata={'source': './test_data/speech.txt'}, page_content='It will be all the easier for us to conduct ourselves as belligerents in a high spirit of right and fairness because we act without animus, not in enmity toward a people or with the desire to bring any injury or disadvantage upon them, but only in armed opposition to an irresponsible government which has thrown aside all considerations of humanity and of right and is running amuck. We are, let me say again, the sincere friends of the German people, and shall desire nothing so much as the early'),\n",
       " Document(metadata={'source': './test_data/speech.txt'}, page_content='reestablishment of intimate relations of mutual advantage between us—however hard it may be for them, for the time being, to believe that this is spoken from our hearts.'),\n",
       " Document(metadata={'source': './test_data/speech.txt'}, page_content='We have borne with their present government through all these bitter months because of that friendship—exercising a patience and forbearance which would otherwise have been impossible. We shall, happily, still have an opportunity to prove that friendship in our daily attitude and actions toward the millions of men and women of German birth and native sympathy who live among us and share our life, and we shall be proud to prove it toward all who are in fact loyal to their neighbors and to the'),\n",
       " Document(metadata={'source': './test_data/speech.txt'}, page_content='government in the hour of test. They are, most of them, as true and loyal Americans as if they had never known any other fealty or allegiance. They will be prompt to stand with us in rebuking and restraining the few who may be of a different mind and purpose. If there should be disloyalty, it will be dealt with with a firm hand of stern repression; but, if it lifts its head at all, it will lift it only here and there and without countenance except from a lawless and malignant few.'),\n",
       " Document(metadata={'source': './test_data/speech.txt'}, page_content='It is a distressing and oppressive duty, gentlemen of the Congress, which I have performed in thus addressing you. There are, it may be, many months of fiery trial and sacrifice ahead of us. It is a fearful thing to lead this great peaceful people into war, into the most terrible and disastrous of all wars, civilization itself seeming to be in the balance. But the right is more precious than peace, and we shall fight for the things which we have always carried nearest our hearts—for democracy,'),\n",
       " Document(metadata={'source': './test_data/speech.txt'}, page_content='for the right of those who submit to authority to have a voice in their own governments, for the rights and liberties of small nations, for a universal dominion of right by such a concert of free peoples as shall bring peace and safety to all nations and make the world itself at last free.'),\n",
       " Document(metadata={'source': './test_data/speech.txt'}, page_content='To such a task we can dedicate our lives and our fortunes, everything that we are and everything that we have, with the pride of those who know that the day has come when America is privileged to spend her blood and her might for the principles that gave her birth and happiness and the peace which she has treasured. God helping her, she can do no other.')]"
      ]
     },
     "execution_count": 23,
     "metadata": {},
     "output_type": "execute_result"
    }
   ],
   "source": [
    "chunks = splitter.split_documents(documents) \n",
    "chunks"
   ]
  },
  {
   "cell_type": "code",
   "execution_count": 48,
   "id": "979aa4a5",
   "metadata": {},
   "outputs": [],
   "source": [
    "# Embed the chunks using HuggingFace embeddings\n",
    "from langchain_huggingface import HuggingFaceEmbeddings"
   ]
  },
  {
   "cell_type": "code",
   "execution_count": null,
   "id": "499a152d",
   "metadata": {},
   "outputs": [
    {
     "name": "stderr",
     "output_type": "stream",
     "text": [
      "HTTP Error 429 thrown while requesting HEAD https://huggingface.co/sentence-transformers/all-MiniLM-L6-v2/resolve/main/./modules.json\n",
      "Retrying in 1s [Retry 1/5].\n",
      "HTTP Error 429 thrown while requesting HEAD https://huggingface.co/sentence-transformers/all-MiniLM-L6-v2/resolve/main/./modules.json\n",
      "Retrying in 2s [Retry 2/5].\n",
      "HTTP Error 429 thrown while requesting HEAD https://huggingface.co/sentence-transformers/all-MiniLM-L6-v2/resolve/main/./modules.json\n",
      "Retrying in 4s [Retry 3/5].\n"
     ]
    },
    {
     "data": {
      "text/plain": [
       "HuggingFaceEmbeddings(model_name='all-MiniLM-L6-v2', cache_folder=None, model_kwargs={}, encode_kwargs={}, query_encode_kwargs={}, multi_process=False, show_progress=False)"
      ]
     },
     "execution_count": 49,
     "metadata": {},
     "output_type": "execute_result"
    }
   ],
   "source": [
    "# Initialize the embedding model\n",
    "embedding_model = HuggingFaceEmbeddings(model_name=\"all-MiniLM-L6-v2\")\n",
    "embedding_model"
   ]
  },
  {
   "cell_type": "code",
   "execution_count": 50,
   "id": "bde9ffc5",
   "metadata": {},
   "outputs": [
    {
     "data": {
      "text/plain": [
       "[[-0.024979230016469955,\n",
       "  0.060726016759872437,\n",
       "  -0.07438061386346817,\n",
       "  -0.03582463040947914,\n",
       "  -0.00046451992238871753,\n",
       "  0.010692726820707321,\n",
       "  0.05784572288393974,\n",
       "  -0.044231779873371124,\n",
       "  -0.02094457484781742,\n",
       "  0.0728975236415863,\n",
       "  0.043148502707481384,\n",
       "  -0.01467179786413908,\n",
       "  0.06261970847845078,\n",
       "  0.01238931342959404,\n",
       "  -0.0034853811375796795,\n",
       "  0.02171238139271736,\n",
       "  -0.05261489748954773,\n",
       "  -0.05676167458295822,\n",
       "  -0.12298355996608734,\n",
       "  0.13666757941246033,\n",
       "  -0.0205841064453125,\n",
       "  0.0547347366809845,\n",
       "  0.06125496327877045,\n",
       "  0.09263648837804794,\n",
       "  -0.12914802134037018,\n",
       "  -4.801653267350048e-05,\n",
       "  0.034465234726667404,\n",
       "  -0.011513428762555122,\n",
       "  0.014853750355541706,\n",
       "  -0.03045596554875374,\n",
       "  0.04792337119579315,\n",
       "  -0.11821431666612625,\n",
       "  0.06203392148017883,\n",
       "  0.01731581799685955,\n",
       "  0.028626980260014534,\n",
       "  0.027012474834918976,\n",
       "  0.04707871749997139,\n",
       "  -0.10649622231721878,\n",
       "  0.047832392156124115,\n",
       "  -0.106280118227005,\n",
       "  -0.007873442023992538,\n",
       "  -0.09647613763809204,\n",
       "  -0.038414016366004944,\n",
       "  0.0365956649184227,\n",
       "  -0.04381243512034416,\n",
       "  0.0734785869717598,\n",
       "  -0.02782665565609932,\n",
       "  -0.013043979182839394,\n",
       "  0.003948517609387636,\n",
       "  -0.09471062570810318,\n",
       "  -0.018954027444124222,\n",
       "  0.059850793331861496,\n",
       "  -0.03594893962144852,\n",
       "  -0.07524574548006058,\n",
       "  -0.016153980046510696,\n",
       "  -0.01238439604640007,\n",
       "  -0.027518270537257195,\n",
       "  -0.021947862580418587,\n",
       "  0.06473197042942047,\n",
       "  -0.055004462599754333,\n",
       "  -0.0315401665866375,\n",
       "  0.05167670175433159,\n",
       "  -0.016313334926962852,\n",
       "  0.07941782474517822,\n",
       "  0.0021868045441806316,\n",
       "  -0.06727433949708939,\n",
       "  0.07537901401519775,\n",
       "  0.039526861160993576,\n",
       "  -0.08440123498439789,\n",
       "  0.05965293198823929,\n",
       "  0.06485620141029358,\n",
       "  0.020794840529561043,\n",
       "  0.11439646035432816,\n",
       "  -0.057713206857442856,\n",
       "  -0.015330588445067406,\n",
       "  0.012992805801331997,\n",
       "  0.043240007013082504,\n",
       "  -0.0029784105718135834,\n",
       "  0.015159673988819122,\n",
       "  -0.008306282572448254,\n",
       "  0.0827210322022438,\n",
       "  0.0408061146736145,\n",
       "  0.01752944476902485,\n",
       "  0.03233315050601959,\n",
       "  0.025153987109661102,\n",
       "  -0.04420570656657219,\n",
       "  -0.0043528019450604916,\n",
       "  0.007655623834580183,\n",
       "  0.11441834270954132,\n",
       "  -0.03852443769574165,\n",
       "  -0.06946434080600739,\n",
       "  0.07455845922231674,\n",
       "  0.061465371400117874,\n",
       "  0.034373704344034195,\n",
       "  0.07124485075473785,\n",
       "  -0.053472112864255905,\n",
       "  0.03232310339808464,\n",
       "  0.01602962426841259,\n",
       "  -0.050638217478990555,\n",
       "  0.04459650069475174,\n",
       "  0.04010282829403877,\n",
       "  0.003078089328482747,\n",
       "  -0.026340609416365623,\n",
       "  -0.04704542085528374,\n",
       "  0.008030717261135578,\n",
       "  -0.006358316168189049,\n",
       "  -0.03341438248753548,\n",
       "  -0.04451693594455719,\n",
       "  -0.033853136003017426,\n",
       "  0.05239846184849739,\n",
       "  -0.02227507159113884,\n",
       "  -0.043986234813928604,\n",
       "  0.01663210242986679,\n",
       "  0.006581254303455353,\n",
       "  0.07011521607637405,\n",
       "  -0.03056115098297596,\n",
       "  -0.09355231374502182,\n",
       "  -0.06228568032383919,\n",
       "  -0.017907535657286644,\n",
       "  -0.014481384307146072,\n",
       "  -0.052984606474637985,\n",
       "  -0.0059684221632778645,\n",
       "  -0.03529203683137894,\n",
       "  0.038404032588005066,\n",
       "  0.08179014921188354,\n",
       "  -0.048175837844610214,\n",
       "  -0.0031197324860841036,\n",
       "  6.581821356968429e-33,\n",
       "  -0.04395432770252228,\n",
       "  -0.009346738457679749,\n",
       "  0.013843940570950508,\n",
       "  0.046842630952596664,\n",
       "  -0.07146355509757996,\n",
       "  -0.009117910638451576,\n",
       "  -0.04887159541249275,\n",
       "  0.01749284751713276,\n",
       "  -0.1164446696639061,\n",
       "  0.08531719446182251,\n",
       "  0.027715196833014488,\n",
       "  -0.01788436621427536,\n",
       "  0.074756920337677,\n",
       "  0.06786768138408661,\n",
       "  0.0019062237115576863,\n",
       "  -0.06663297116756439,\n",
       "  -0.028155313804745674,\n",
       "  -0.030589153990149498,\n",
       "  0.04320596531033516,\n",
       "  0.006034730467945337,\n",
       "  -0.0177384652197361,\n",
       "  -0.025704720988869667,\n",
       "  0.02161279320716858,\n",
       "  -0.046579696238040924,\n",
       "  0.023554740473628044,\n",
       "  -0.04152713716030121,\n",
       "  -0.005703991744667292,\n",
       "  -0.0460495725274086,\n",
       "  0.01848536916077137,\n",
       "  0.027796300128102303,\n",
       "  -0.013737499713897705,\n",
       "  0.05335985869169235,\n",
       "  -0.06128739193081856,\n",
       "  -0.047600649297237396,\n",
       "  0.03327465429902077,\n",
       "  -0.04736155644059181,\n",
       "  -0.10795241594314575,\n",
       "  0.06307516992092133,\n",
       "  -0.06266649812459946,\n",
       "  -0.04196521267294884,\n",
       "  -0.03518461063504219,\n",
       "  0.039058126509189606,\n",
       "  -0.008173609152436256,\n",
       "  -0.008864225819706917,\n",
       "  0.11263519525527954,\n",
       "  0.008330010809004307,\n",
       "  -0.031187688931822777,\n",
       "  0.03375644609332085,\n",
       "  -0.08106263726949692,\n",
       "  -0.011382403783500195,\n",
       "  -0.026175353676080704,\n",
       "  0.016269374638795853,\n",
       "  0.019682828336954117,\n",
       "  -0.023582668974995613,\n",
       "  -0.023268617689609528,\n",
       "  -0.048402298241853714,\n",
       "  -0.09516569972038269,\n",
       "  0.11027029901742935,\n",
       "  -0.03654741868376732,\n",
       "  -0.0872020572423935,\n",
       "  -0.07487603276968002,\n",
       "  -0.025848960503935814,\n",
       "  -0.04113973677158356,\n",
       "  0.00899303238838911,\n",
       "  0.015032338909804821,\n",
       "  -0.04564014822244644,\n",
       "  -0.11044827103614807,\n",
       "  -0.010385317727923393,\n",
       "  -0.009909502230584621,\n",
       "  -0.02433810569345951,\n",
       "  0.014919282868504524,\n",
       "  0.0019549268763512373,\n",
       "  0.005601735319942236,\n",
       "  0.025413310155272484,\n",
       "  -0.046447355300188065,\n",
       "  0.05710180848836899,\n",
       "  0.13023900985717773,\n",
       "  0.04756198823451996,\n",
       "  0.014615237712860107,\n",
       "  -0.017689736559987068,\n",
       "  -0.040272753685712814,\n",
       "  0.05566764995455742,\n",
       "  0.0069486522115767,\n",
       "  -0.044072896242141724,\n",
       "  0.09103973954916,\n",
       "  -0.05930851027369499,\n",
       "  0.0357121117413044,\n",
       "  -0.05884988605976105,\n",
       "  0.012584323063492775,\n",
       "  0.06463667750358582,\n",
       "  -0.028061145916581154,\n",
       "  0.022037094458937645,\n",
       "  -0.0064342934638261795,\n",
       "  0.00027252931613475084,\n",
       "  -0.09767583757638931,\n",
       "  -7.743724789043303e-33,\n",
       "  0.0568808950483799,\n",
       "  0.00425326731055975,\n",
       "  -0.05485500022768974,\n",
       "  0.06542329490184784,\n",
       "  0.017711490392684937,\n",
       "  0.022831112146377563,\n",
       "  -0.008120231330394745,\n",
       "  0.001290682004764676,\n",
       "  0.006549636367708445,\n",
       "  -0.00631305854767561,\n",
       "  -0.014449916779994965,\n",
       "  -0.03559725731611252,\n",
       "  0.03799562528729439,\n",
       "  0.013710233382880688,\n",
       "  0.01634996011853218,\n",
       "  0.02791091613471508,\n",
       "  0.0761684700846672,\n",
       "  0.013925326056778431,\n",
       "  0.00037133635487407446,\n",
       "  -0.013180520385503769,\n",
       "  -0.02435055375099182,\n",
       "  0.1318022608757019,\n",
       "  -0.08492309600114822,\n",
       "  -0.008559794165194035,\n",
       "  0.022946519777178764,\n",
       "  0.035023003816604614,\n",
       "  0.0052784341387450695,\n",
       "  -0.0033425490837544203,\n",
       "  0.024789797142148018,\n",
       "  0.03479049727320671,\n",
       "  0.05008328706026077,\n",
       "  -0.038970962166786194,\n",
       "  -0.10260394960641861,\n",
       "  -0.006139044184237719,\n",
       "  0.02259603515267372,\n",
       "  -0.0842476338148117,\n",
       "  0.06568197906017303,\n",
       "  -0.018288642168045044,\n",
       "  -0.008925803005695343,\n",
       "  0.015629073604941368,\n",
       "  -0.08797948062419891,\n",
       "  0.027737753465771675,\n",
       "  -0.04040887579321861,\n",
       "  0.0059959860518574715,\n",
       "  -0.04014177247881889,\n",
       "  -0.02469875104725361,\n",
       "  0.02052433043718338,\n",
       "  -0.05386657640337944,\n",
       "  -0.05787602812051773,\n",
       "  -0.03550088405609131,\n",
       "  0.006994343362748623,\n",
       "  -0.038893427699804306,\n",
       "  0.0064328392036259174,\n",
       "  -0.023745279759168625,\n",
       "  0.08372977375984192,\n",
       "  -0.020480303093791008,\n",
       "  0.02361111529171467,\n",
       "  -0.022550921887159348,\n",
       "  0.06633798032999039,\n",
       "  -0.020453481003642082,\n",
       "  0.002458085073158145,\n",
       "  0.03933924064040184,\n",
       "  -0.06661859899759293,\n",
       "  0.008782867342233658,\n",
       "  0.07414956390857697,\n",
       "  0.08305246382951736,\n",
       "  -0.03729323297739029,\n",
       "  0.03611339256167412,\n",
       "  0.11539867520332336,\n",
       "  0.03344114497303963,\n",
       "  0.005712962709367275,\n",
       "  -0.08346396684646606,\n",
       "  -0.09761521965265274,\n",
       "  -0.07384189963340759,\n",
       "  0.07556813210248947,\n",
       "  0.0067189536057412624,\n",
       "  0.0058161355555057526,\n",
       "  0.013001218438148499,\n",
       "  -0.018330805003643036,\n",
       "  0.04198309779167175,\n",
       "  0.09506282955408096,\n",
       "  -0.09306145459413528,\n",
       "  -0.007764056790620089,\n",
       "  0.025526009500026703,\n",
       "  -0.027348103001713753,\n",
       "  -0.031711410731077194,\n",
       "  0.07870347797870636,\n",
       "  -0.01739901304244995,\n",
       "  0.008622633293271065,\n",
       "  0.0058533367700874805,\n",
       "  -0.005607291124761105,\n",
       "  -0.012630647048354149,\n",
       "  -0.014184088446199894,\n",
       "  0.03283177316188812,\n",
       "  0.06423589587211609,\n",
       "  -7.051102812738463e-08,\n",
       "  0.00553107587620616,\n",
       "  -0.012801498174667358,\n",
       "  -0.06329189985990524,\n",
       "  0.09004650264978409,\n",
       "  -0.013385765254497528,\n",
       "  -0.021978337317705154,\n",
       "  0.015302004292607307,\n",
       "  -0.14352864027023315,\n",
       "  -0.07778840512037277,\n",
       "  0.023538177832961082,\n",
       "  0.11330677568912506,\n",
       "  -0.06974457949399948,\n",
       "  -0.0264446958899498,\n",
       "  0.05006496235728264,\n",
       "  -0.00993175059556961,\n",
       "  0.06643766164779663,\n",
       "  -0.06881855428218842,\n",
       "  -0.04343757405877113,\n",
       "  -0.07257165014743805,\n",
       "  -0.04606294631958008,\n",
       "  0.014901891350746155,\n",
       "  -0.02094455249607563,\n",
       "  -0.04213070496916771,\n",
       "  -0.01866036280989647,\n",
       "  0.008124671876430511,\n",
       "  0.03665439411997795,\n",
       "  -0.06038809195160866,\n",
       "  -0.09362822771072388,\n",
       "  -0.05411720275878906,\n",
       "  0.04185744747519493,\n",
       "  -0.04502113536000252,\n",
       "  -0.005831159185618162,\n",
       "  -0.07626102864742279,\n",
       "  -0.025395534932613373,\n",
       "  -0.033260636031627655,\n",
       "  0.02215997315943241,\n",
       "  -0.011113226413726807,\n",
       "  0.02023087628185749,\n",
       "  0.05145362392067909,\n",
       "  0.03611164540052414,\n",
       "  0.01575443707406521,\n",
       "  0.08823190629482269,\n",
       "  0.09885220974683762,\n",
       "  0.022278431802988052,\n",
       "  -0.03756510093808174,\n",
       "  0.007517064921557903,\n",
       "  -0.009054294787347317,\n",
       "  0.06803305447101593,\n",
       "  0.05257359892129898,\n",
       "  -0.03339540585875511,\n",
       "  -0.06046213209629059,\n",
       "  -0.02495206706225872,\n",
       "  0.05709927901625633,\n",
       "  0.06487014144659042,\n",
       "  0.04852021113038063,\n",
       "  0.026984374970197678,\n",
       "  0.04105820879340172,\n",
       "  0.10531631112098694,\n",
       "  -0.010837703011929989,\n",
       "  0.04951076954603195,\n",
       "  0.030714593827724457,\n",
       "  -0.04236244410276413,\n",
       "  -0.026732582598924637,\n",
       "  -0.07382209599018097]]"
      ]
     },
     "execution_count": 50,
     "metadata": {},
     "output_type": "execute_result"
    }
   ],
   "source": [
    "embeddings = embedding_model.embed_documents([doc.page_content for doc in documents])\n",
    "embeddings"
   ]
  },
  {
   "cell_type": "code",
   "execution_count": 52,
   "id": "0ba04299",
   "metadata": {},
   "outputs": [],
   "source": [
    "# Store the embeddings in a vector database\n",
    "from langchain_chroma import Chroma"
   ]
  },
  {
   "cell_type": "code",
   "execution_count": 53,
   "id": "cfa784d0",
   "metadata": {},
   "outputs": [
    {
     "data": {
      "text/plain": [
       "<langchain_chroma.vectorstores.Chroma at 0x26c9b067550>"
      ]
     },
     "execution_count": 53,
     "metadata": {},
     "output_type": "execute_result"
    }
   ],
   "source": [
    "vectorstore  = Chroma.from_documents(\n",
    "    documents=chunks,\n",
    "    embedding=embedding_model,\n",
    ")\n",
    "vectorstore"
   ]
  },
  {
   "cell_type": "code",
   "execution_count": 63,
   "id": "12e75348",
   "metadata": {},
   "outputs": [
    {
     "data": {
      "text/plain": [
       "[Document(id='3d30e808-d4a5-4a5a-a760-d8a71601fff6', metadata={'moddate': '2024-01-31T19:54:08+05:30', 'page': 1, 'source': '../data/Passport1.pdf', 'author': 'ewis', 'producer': 'FREE PDFill PDF and Image Writer', 'total_pages': 4, 'title': 'Microsoft Word - Instructions for Online TD - Local Applicants -english.doc', 'page_label': '2', 'creationdate': '2024-01-31T19:54:07+05:30', 'creator': 'PScript5.dll Version 5.2.2'}, page_content='5.5 Immediately after the acknowledgment of your ap plication, you will receive an SMS. You are \\nrequested NOT to report to the relevant Service Fac ilitating Center to submit fingerprints until you \\nreceive the SMS. \\n5.6 You shall be ready to furnish the following doc uments to the sub office of the Department for \\nRegistration of Persons at Divisional Secretariat.   \\n  5.6.1. Message of appointment for providing finge rprints (Mandatory)'),\n",
       " Document(id='b6eee32b-7e64-4f2a-82d3-2019370a2db6', metadata={'total_pages': 4, 'moddate': '2024-01-31T19:54:08+05:30', 'producer': 'FREE PDFill PDF and Image Writer', 'source': '../data/Passport1.pdf', 'author': 'ewis', 'creator': 'PScript5.dll Version 5.2.2', 'page': 1, 'creationdate': '2024-01-31T19:54:07+05:30', 'page_label': '2', 'title': 'Microsoft Word - Instructions for Online TD - Local Applicants -english.doc'}, page_content='4.  General Instructions   \\n4.1 Please log on to the following URL to apply online. \\nhttps://www.immigration.gov.lk/  \\n4.2 The application must be completed in English. \\n4.3 The applicants who have applied under “Urgent servi ce” will be facilitated to receive passports by \\ncourier service and under the “Normal service” to r eceive passports by registered post.  \\n4.4 The courier charges/postal charges will be borne by the Department.  \\n4.5 If you have already obtained a photograph, please e nter the acknowledgement number of the \\nphotograph. \\n4.6 All documents required to be uploaded shall be in J PEG format and size of file has to be less than 5 \\nMB. \\n5. Instructions on Service Facilitating Centers \\n5.1 You are requested to select one of the following Service Facilitating Centers.  \\n  5.1.1  Head office of the Department  \\n  5.1.2 Regional offices of the Department \\n 5.1.3 Sub offices of the Department for Registrati on of Persons established at nominated'),\n",
       " Document(id='06b0bad3-4707-4782-a9ad-ce0dc61757d0', metadata={'creator': 'PScript5.dll Version 5.2.2', 'author': 'ewis', 'moddate': '2024-01-31T19:54:08+05:30', 'total_pages': 4, 'page_label': '1', 'creationdate': '2024-01-31T19:54:07+05:30', 'title': 'Microsoft Word - Instructions for Online TD - Local Applicants -english.doc', 'source': '../data/Passport1.pdf', 'page': 0, 'producer': 'FREE PDFill PDF and Image Writer'}, page_content='Department of Immigration and Emigration \\nOnline Submission of Travel Document Applications –  Local Applicants \\n  \\n \\nInstructions to Online Apply for a Passport \\n(Please read the instructions carefully) \\n \\n1.  How to apply? \\n1.1. You can apply for either urgent service or normal service.  \\n1.2. If you select the urgent service, your travel docum ent will be issued after three days of capturing \\nyour fingerprints. \\n1.3. If you select the normal service, your travel docum ent will be issued after thirty days of capturing \\nyour fingerprints. \\n \\n2.  Eligibility \\n2.1 The eligibility criteria in order to avail this service are as follows: \\n2.1.1  Your age shall be 16 years or above as at th e date of submitting your application. \\n2.1.2  You shall possess your valid passport, if an y.  \\n2.1.3  Your NIC /Passport/Full Name shall not be bl acklisted. \\n2.1.4  You shall not have a travel ban imposed by t he Courts of Law.'),\n",
       " Document(id='777e290a-dde8-481c-acac-603a2e25e00c', metadata={'source': '../data/Passport1.pdf', 'title': 'Microsoft Word - Instructions for Online TD - Local Applicants -english.doc', 'creator': 'PScript5.dll Version 5.2.2', 'moddate': '2024-01-31T19:54:08+05:30', 'producer': 'FREE PDFill PDF and Image Writer', 'author': 'ewis', 'page_label': '2', 'creationdate': '2024-01-31T19:54:07+05:30', 'page': 1, 'total_pages': 4}, page_content='5.1.3 Sub offices of the Department for Registrati on of Persons established at nominated \\nDivisional Secretariats (DS –DRP). (Please refer to  No. 8 below for the nominated \\nDS-DRP list.) \\n   5.2 You will be facilitated the following servic es at the selected Service Facilitating Centers. \\n  5.2.1 Capturing the finger print of the applicant  (Mandatory requirement) \\n  5.2.2 Capturing the signature of the applicant (M andatory requirement) \\n  5.2.3 Capturing the Biometric enabled photograph of the applicant (Optional) \\n5.3 Your device will receive a “notification of ass igning the time for online passport” at the event o f \\nsubmitting the application and the mobile phone reg istered will receive the reference No. of the \\napplication through an SMS. \\n5.4 When the payment is made successfully, it will be informed through an SMS. \\n5.5 Immediately after the acknowledgment of your ap plication, you will receive an SMS. You are')]"
      ]
     },
     "execution_count": 63,
     "metadata": {},
     "output_type": "execute_result"
    }
   ],
   "source": [
    "query = \" How to apply?\"\n",
    "docs = vectorstore.similarity_search(query)\n",
    "docs"
   ]
  },
  {
   "cell_type": "code",
   "execution_count": 64,
   "id": "ab909434",
   "metadata": {},
   "outputs": [
    {
     "data": {
      "text/plain": [
       "'4.  General Instructions   \\n4.1 Please log on to the following URL to apply online. \\nhttps://www.immigration.gov.lk/  \\n4.2 The application must be completed in English. \\n4.3 The applicants who have applied under “Urgent servi ce” will be facilitated to receive passports by \\ncourier service and under the “Normal service” to r eceive passports by registered post.  \\n4.4 The courier charges/postal charges will be borne by the Department.  \\n4.5 If you have already obtained a photograph, please e nter the acknowledgement number of the \\nphotograph. \\n4.6 All documents required to be uploaded shall be in J PEG format and size of file has to be less than 5 \\nMB. \\n5. Instructions on Service Facilitating Centers \\n5.1 You are requested to select one of the following Service Facilitating Centers.  \\n  5.1.1  Head office of the Department  \\n  5.1.2 Regional offices of the Department \\n 5.1.3 Sub offices of the Department for Registrati on of Persons established at nominated'"
      ]
     },
     "execution_count": 64,
     "metadata": {},
     "output_type": "execute_result"
    }
   ],
   "source": [
    "docs[1].page_content"
   ]
  },
  {
   "cell_type": "code",
   "execution_count": 71,
   "id": "3d736085",
   "metadata": {},
   "outputs": [],
   "source": [
    "from langchain_chroma import Chroma\n",
    "from langchain_core.documents import Document\n",
    "from typing import List\n",
    "import os\n",
    "\n",
    "def store_embeddings_with_vectors(\n",
    "    documents: List[Document],\n",
    "    embeddings: List[List[float]],\n",
    "    persist_directory: str = \"./chroma_store\"\n",
    "):\n",
    "    \"\"\"\n",
    "    Store pre-computed document embeddings in a Chroma vector database.\n",
    "\n",
    "    Args:\n",
    "        documents (List[Document]): The original documents.\n",
    "        embeddings (List[List[float]]): Precomputed embeddings.\n",
    "        persist_directory (str): Directory to save the Chroma vector DB.\n",
    "    \n",
    "    Returns:\n",
    "        Chroma: The Chroma vector store instance.\n",
    "    \"\"\"\n",
    "    # Ensure persistence directory exists\n",
    "    os.makedirs(persist_directory, exist_ok=True)\n",
    "\n",
    "    # Create Chroma vector store using pre-computed embeddings\n",
    "    vectorstore = Chroma.from_documents(\n",
    "        documents=documents,\n",
    "        embeddings=embeddings,\n",
    "        persist_directory=persist_directory\n",
    "    )\n",
    "\n",
    "    # Save the vector store to disk\n",
    "    vectorstore.persist()\n",
    "\n",
    "    print(f\"Stored {len(documents)} documents with pre-computed embeddings to {persist_directory}\")\n",
    "    return vectorstore\n"
   ]
  },
  {
   "cell_type": "code",
   "execution_count": 72,
   "id": "6aa5eb6d",
   "metadata": {},
   "outputs": [
    {
     "ename": "TypeError",
     "evalue": "Chroma.__init__() got an unexpected keyword argument 'embeddings'",
     "output_type": "error",
     "traceback": [
      "\u001b[31m---------------------------------------------------------------------------\u001b[39m",
      "\u001b[31mTypeError\u001b[39m                                 Traceback (most recent call last)",
      "\u001b[36mCell\u001b[39m\u001b[36m \u001b[39m\u001b[32mIn[72]\u001b[39m\u001b[32m, line 1\u001b[39m\n\u001b[32m----> \u001b[39m\u001b[32m1\u001b[39m \u001b[43mstore_embeddings_with_vectors\u001b[49m\u001b[43m(\u001b[49m\u001b[43mchunks\u001b[49m\u001b[43m,\u001b[49m\u001b[43m \u001b[49m\u001b[43membeddings\u001b[49m\u001b[43m,\u001b[49m\u001b[43m \u001b[49m\u001b[43mpersist_directory\u001b[49m\u001b[43m=\u001b[49m\u001b[33;43m\"\u001b[39;49m\u001b[33;43m./chroma_store\u001b[39;49m\u001b[33;43m\"\u001b[39;49m\u001b[43m)\u001b[49m   \n",
      "\u001b[36mCell\u001b[39m\u001b[36m \u001b[39m\u001b[32mIn[71]\u001b[39m\u001b[32m, line 26\u001b[39m, in \u001b[36mstore_embeddings_with_vectors\u001b[39m\u001b[34m(documents, embeddings, persist_directory)\u001b[39m\n\u001b[32m     23\u001b[39m os.makedirs(persist_directory, exist_ok=\u001b[38;5;28;01mTrue\u001b[39;00m)\n\u001b[32m     25\u001b[39m \u001b[38;5;66;03m# Create Chroma vector store using pre-computed embeddings\u001b[39;00m\n\u001b[32m---> \u001b[39m\u001b[32m26\u001b[39m vectorstore = \u001b[43mChroma\u001b[49m\u001b[43m.\u001b[49m\u001b[43mfrom_documents\u001b[49m\u001b[43m(\u001b[49m\n\u001b[32m     27\u001b[39m \u001b[43m    \u001b[49m\u001b[43mdocuments\u001b[49m\u001b[43m=\u001b[49m\u001b[43mdocuments\u001b[49m\u001b[43m,\u001b[49m\n\u001b[32m     28\u001b[39m \u001b[43m    \u001b[49m\u001b[43membeddings\u001b[49m\u001b[43m=\u001b[49m\u001b[43membeddings\u001b[49m\u001b[43m,\u001b[49m\n\u001b[32m     29\u001b[39m \u001b[43m    \u001b[49m\u001b[43mpersist_directory\u001b[49m\u001b[43m=\u001b[49m\u001b[43mpersist_directory\u001b[49m\n\u001b[32m     30\u001b[39m \u001b[43m\u001b[49m\u001b[43m)\u001b[49m\n\u001b[32m     32\u001b[39m \u001b[38;5;66;03m# Save the vector store to disk\u001b[39;00m\n\u001b[32m     33\u001b[39m vectorstore.persist()\n",
      "\u001b[36mFile \u001b[39m\u001b[32mh:\\Anaconda\\envs\\rag-test\\Lib\\site-packages\\langchain_chroma\\vectorstores.py:1234\u001b[39m, in \u001b[36mChroma.from_documents\u001b[39m\u001b[34m(cls, documents, embedding, ids, collection_name, persist_directory, client_settings, client, collection_metadata, **kwargs)\u001b[39m\n\u001b[32m   1232\u001b[39m \u001b[38;5;28;01mif\u001b[39;00m ids \u001b[38;5;129;01mis\u001b[39;00m \u001b[38;5;28;01mNone\u001b[39;00m:\n\u001b[32m   1233\u001b[39m     ids = [doc.id \u001b[38;5;28;01mif\u001b[39;00m doc.id \u001b[38;5;28;01melse\u001b[39;00m \u001b[38;5;28mstr\u001b[39m(uuid.uuid4()) \u001b[38;5;28;01mfor\u001b[39;00m doc \u001b[38;5;129;01min\u001b[39;00m documents]\n\u001b[32m-> \u001b[39m\u001b[32m1234\u001b[39m \u001b[38;5;28;01mreturn\u001b[39;00m \u001b[38;5;28;43mcls\u001b[39;49m\u001b[43m.\u001b[49m\u001b[43mfrom_texts\u001b[49m\u001b[43m(\u001b[49m\n\u001b[32m   1235\u001b[39m \u001b[43m    \u001b[49m\u001b[43mtexts\u001b[49m\u001b[43m=\u001b[49m\u001b[43mtexts\u001b[49m\u001b[43m,\u001b[49m\n\u001b[32m   1236\u001b[39m \u001b[43m    \u001b[49m\u001b[43membedding\u001b[49m\u001b[43m=\u001b[49m\u001b[43membedding\u001b[49m\u001b[43m,\u001b[49m\n\u001b[32m   1237\u001b[39m \u001b[43m    \u001b[49m\u001b[43mmetadatas\u001b[49m\u001b[43m=\u001b[49m\u001b[43mmetadatas\u001b[49m\u001b[43m,\u001b[49m\n\u001b[32m   1238\u001b[39m \u001b[43m    \u001b[49m\u001b[43mids\u001b[49m\u001b[43m=\u001b[49m\u001b[43mids\u001b[49m\u001b[43m,\u001b[49m\n\u001b[32m   1239\u001b[39m \u001b[43m    \u001b[49m\u001b[43mcollection_name\u001b[49m\u001b[43m=\u001b[49m\u001b[43mcollection_name\u001b[49m\u001b[43m,\u001b[49m\n\u001b[32m   1240\u001b[39m \u001b[43m    \u001b[49m\u001b[43mpersist_directory\u001b[49m\u001b[43m=\u001b[49m\u001b[43mpersist_directory\u001b[49m\u001b[43m,\u001b[49m\n\u001b[32m   1241\u001b[39m \u001b[43m    \u001b[49m\u001b[43mclient_settings\u001b[49m\u001b[43m=\u001b[49m\u001b[43mclient_settings\u001b[49m\u001b[43m,\u001b[49m\n\u001b[32m   1242\u001b[39m \u001b[43m    \u001b[49m\u001b[43mclient\u001b[49m\u001b[43m=\u001b[49m\u001b[43mclient\u001b[49m\u001b[43m,\u001b[49m\n\u001b[32m   1243\u001b[39m \u001b[43m    \u001b[49m\u001b[43mcollection_metadata\u001b[49m\u001b[43m=\u001b[49m\u001b[43mcollection_metadata\u001b[49m\u001b[43m,\u001b[49m\n\u001b[32m   1244\u001b[39m \u001b[43m    \u001b[49m\u001b[43m*\u001b[49m\u001b[43m*\u001b[49m\u001b[43mkwargs\u001b[49m\u001b[43m,\u001b[49m\n\u001b[32m   1245\u001b[39m \u001b[43m\u001b[49m\u001b[43m)\u001b[49m\n",
      "\u001b[36mFile \u001b[39m\u001b[32mh:\\Anaconda\\envs\\rag-test\\Lib\\site-packages\\langchain_chroma\\vectorstores.py:1161\u001b[39m, in \u001b[36mChroma.from_texts\u001b[39m\u001b[34m(cls, texts, embedding, metadatas, ids, collection_name, persist_directory, client_settings, client, collection_metadata, **kwargs)\u001b[39m\n\u001b[32m   1125\u001b[39m \u001b[38;5;129m@classmethod\u001b[39m\n\u001b[32m   1126\u001b[39m \u001b[38;5;28;01mdef\u001b[39;00m\u001b[38;5;250m \u001b[39m\u001b[34mfrom_texts\u001b[39m(\n\u001b[32m   1127\u001b[39m     \u001b[38;5;28mcls\u001b[39m: \u001b[38;5;28mtype\u001b[39m[Chroma],\n\u001b[32m   (...)\u001b[39m\u001b[32m   1137\u001b[39m     **kwargs: Any,\n\u001b[32m   1138\u001b[39m ) -> Chroma:\n\u001b[32m   1139\u001b[39m \u001b[38;5;250m    \u001b[39m\u001b[33;03m\"\"\"Create a Chroma vectorstore from a raw documents.\u001b[39;00m\n\u001b[32m   1140\u001b[39m \n\u001b[32m   1141\u001b[39m \u001b[33;03m    If a persist_directory is specified, the collection will be persisted there.\u001b[39;00m\n\u001b[32m   (...)\u001b[39m\u001b[32m   1159\u001b[39m \u001b[33;03m        Chroma: Chroma vectorstore.\u001b[39;00m\n\u001b[32m   1160\u001b[39m \u001b[33;03m    \"\"\"\u001b[39;00m\n\u001b[32m-> \u001b[39m\u001b[32m1161\u001b[39m     chroma_collection = \u001b[38;5;28;43mcls\u001b[39;49m\u001b[43m(\u001b[49m\n\u001b[32m   1162\u001b[39m \u001b[43m        \u001b[49m\u001b[43mcollection_name\u001b[49m\u001b[43m=\u001b[49m\u001b[43mcollection_name\u001b[49m\u001b[43m,\u001b[49m\n\u001b[32m   1163\u001b[39m \u001b[43m        \u001b[49m\u001b[43membedding_function\u001b[49m\u001b[43m=\u001b[49m\u001b[43membedding\u001b[49m\u001b[43m,\u001b[49m\n\u001b[32m   1164\u001b[39m \u001b[43m        \u001b[49m\u001b[43mpersist_directory\u001b[49m\u001b[43m=\u001b[49m\u001b[43mpersist_directory\u001b[49m\u001b[43m,\u001b[49m\n\u001b[32m   1165\u001b[39m \u001b[43m        \u001b[49m\u001b[43mclient_settings\u001b[49m\u001b[43m=\u001b[49m\u001b[43mclient_settings\u001b[49m\u001b[43m,\u001b[49m\n\u001b[32m   1166\u001b[39m \u001b[43m        \u001b[49m\u001b[43mclient\u001b[49m\u001b[43m=\u001b[49m\u001b[43mclient\u001b[49m\u001b[43m,\u001b[49m\n\u001b[32m   1167\u001b[39m \u001b[43m        \u001b[49m\u001b[43mcollection_metadata\u001b[49m\u001b[43m=\u001b[49m\u001b[43mcollection_metadata\u001b[49m\u001b[43m,\u001b[49m\n\u001b[32m   1168\u001b[39m \u001b[43m        \u001b[49m\u001b[43m*\u001b[49m\u001b[43m*\u001b[49m\u001b[43mkwargs\u001b[49m\u001b[43m,\u001b[49m\n\u001b[32m   1169\u001b[39m \u001b[43m    \u001b[49m\u001b[43m)\u001b[49m\n\u001b[32m   1170\u001b[39m     \u001b[38;5;28;01mif\u001b[39;00m ids \u001b[38;5;129;01mis\u001b[39;00m \u001b[38;5;28;01mNone\u001b[39;00m:\n\u001b[32m   1171\u001b[39m         ids = [\u001b[38;5;28mstr\u001b[39m(uuid.uuid4()) \u001b[38;5;28;01mfor\u001b[39;00m _ \u001b[38;5;129;01min\u001b[39;00m texts]\n",
      "\u001b[31mTypeError\u001b[39m: Chroma.__init__() got an unexpected keyword argument 'embeddings'"
     ]
    }
   ],
   "source": [
    "store_embeddings_with_vectors(chunks, embeddings, persist_directory=\"./chroma_store\")   "
   ]
  },
  {
   "cell_type": "code",
   "execution_count": null,
   "id": "5b4ac15d",
   "metadata": {},
   "outputs": [],
   "source": []
  }
 ],
 "metadata": {
  "kernelspec": {
   "display_name": "Python 3",
   "language": "python",
   "name": "python3"
  },
  "language_info": {
   "codemirror_mode": {
    "name": "ipython",
    "version": 3
   },
   "file_extension": ".py",
   "mimetype": "text/x-python",
   "name": "python",
   "nbconvert_exporter": "python",
   "pygments_lexer": "ipython3",
   "version": "3.11.13"
  }
 },
 "nbformat": 4,
 "nbformat_minor": 5
}
